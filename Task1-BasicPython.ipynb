{
  "nbformat": 4,
  "nbformat_minor": 0,
  "metadata": {
    "colab": {
      "provenance": []
    },
    "kernelspec": {
      "name": "python3",
      "display_name": "Python 3"
    },
    "language_info": {
      "name": "python"
    }
  },
  "cells": [
    {
      "cell_type": "markdown",
      "source": [
        "1. Write a Python program to sum all the items in a list.\n"
      ],
      "metadata": {
        "id": "WbWqfjLILpYR"
      }
    },
    {
      "cell_type": "code",
      "execution_count": 46,
      "metadata": {
        "id": "IeHCdrS5KBAJ",
        "colab": {
          "base_uri": "https://localhost:8080/"
        },
        "outputId": "1d506577-c905-4dcd-d9ed-541b79871f11"
      },
      "outputs": [
        {
          "output_type": "stream",
          "name": "stdout",
          "text": [
            "25\n"
          ]
        }
      ],
      "source": [
        "my_list=[6, 2 ,  8, 4, 5]\n",
        "sum=0\n",
        "i=0\n",
        "while i < len(my_list):\n",
        "  sum+=my_list[i]\n",
        "  i+=1\n",
        "print(sum)"
      ]
    },
    {
      "cell_type": "markdown",
      "source": [
        "2. Write a Python program to get the largest number from a list.\n"
      ],
      "metadata": {
        "id": "1NgXL_KTLulQ"
      }
    },
    {
      "cell_type": "code",
      "source": [
        "my_l=[26, 12 ,  8, 14, 35]\n",
        "lar_num=0\n",
        "i=0\n",
        "while i<len(my_l):\n",
        "  if lar_num < my_l[i]:\n",
        "    lar_num = my_l[i]\n",
        "  i+=1\n",
        "\n",
        "print('largest number in the list is',lar_num)"
      ],
      "metadata": {
        "id": "W4A2hjGBLsu0",
        "colab": {
          "base_uri": "https://localhost:8080/"
        },
        "outputId": "9e69977b-1d3f-4238-f5a9-e5ed6a5e8920"
      },
      "execution_count": 47,
      "outputs": [
        {
          "output_type": "stream",
          "name": "stdout",
          "text": [
            "largest number in the list is 35\n"
          ]
        }
      ]
    },
    {
      "cell_type": "code",
      "source": [
        "my_l=[26, 112 ,  8, 14, 5]\n",
        "my_l.sort()\n",
        "print('largest number in the list is', my_l[-1])"
      ],
      "metadata": {
        "colab": {
          "base_uri": "https://localhost:8080/"
        },
        "id": "GPl5l5cfs89O",
        "outputId": "ea84d3e2-981d-448f-af34-f609f54a803d"
      },
      "execution_count": 48,
      "outputs": [
        {
          "output_type": "stream",
          "name": "stdout",
          "text": [
            "largest number in the list is 112\n"
          ]
        }
      ]
    },
    {
      "cell_type": "markdown",
      "source": [
        "3. Write a Python program to count the number of strings from a given list of strings. The string length is 2 or more and the first and last characters are the same.\n",
        "\n",
        "```\n",
        "Sample List : ['abc', 'xyz', 'aba', '1221']\n",
        "Expected Result : 2\n",
        "```"
      ],
      "metadata": {
        "id": "azKVRKqWLvtp"
      }
    },
    {
      "cell_type": "code",
      "source": [
        "mylist=['nazn','zaz','sat','san','fan','fluf', 'slap']\n",
        "\n",
        "\n",
        "count=0\n",
        "i=0\n",
        "k=0\n",
        "while k < len(mylist):\n",
        "  if len(mylist[i])>=2:\n",
        "    if mylist[i][0]==mylist[i][len(mylist[i])-1]:\n",
        "      count+=1\n",
        "    i+=1\n",
        "  k+=1\n",
        "print(count)"
      ],
      "metadata": {
        "id": "4C9UmcCRL1Bp",
        "colab": {
          "base_uri": "https://localhost:8080/"
        },
        "outputId": "656c869c-c93d-476f-be3d-5d0818e05073"
      },
      "execution_count": 49,
      "outputs": [
        {
          "output_type": "stream",
          "name": "stdout",
          "text": [
            "3\n"
          ]
        }
      ]
    },
    {
      "cell_type": "markdown",
      "source": [
        "4. Write a Python program to remove duplicates from a list.\n"
      ],
      "metadata": {
        "id": "2ZYOfK4rL20r"
      }
    },
    {
      "cell_type": "code",
      "source": [
        "l1=[2, 4, 5, 2, 7, 4, 5, 6]\n",
        "l2=[]\n",
        "for i in l1:\n",
        "  if i not in l2:\n",
        "    l2.append(i)\n",
        "print(l2)"
      ],
      "metadata": {
        "id": "A4Et_q6CL3Pb",
        "colab": {
          "base_uri": "https://localhost:8080/"
        },
        "outputId": "27df53e7-01f3-47bb-ea9d-85c1cb530d48"
      },
      "execution_count": 50,
      "outputs": [
        {
          "output_type": "stream",
          "name": "stdout",
          "text": [
            "[2, 4, 5, 7, 6]\n"
          ]
        }
      ]
    },
    {
      "cell_type": "code",
      "source": [
        "l1=[2, 4, 5, 2, 7, 4, 5, 6]\n",
        "new_list=list(set(l1))\n",
        "print(new_list)"
      ],
      "metadata": {
        "colab": {
          "base_uri": "https://localhost:8080/"
        },
        "id": "19IFSawP2Say",
        "outputId": "e946fb79-a76c-4ded-8fbe-5218512b5cdd"
      },
      "execution_count": 51,
      "outputs": [
        {
          "output_type": "stream",
          "name": "stdout",
          "text": [
            "[2, 4, 5, 6, 7]\n"
          ]
        }
      ]
    },
    {
      "cell_type": "markdown",
      "source": [
        "5. Write a Python program to check if a list is empty or not.\n"
      ],
      "metadata": {
        "id": "kjtsEf0tL358"
      }
    },
    {
      "cell_type": "code",
      "source": [
        "the_list=[1,3,5]\n",
        "if len(the_list)==0:\n",
        "  print(\"the list is empty\")\n",
        "else: print(\"the list is not empty\")"
      ],
      "metadata": {
        "id": "e1C-5rk7L5OT",
        "colab": {
          "base_uri": "https://localhost:8080/"
        },
        "outputId": "b8e5333a-3373-45eb-c327-35a354a10cb3"
      },
      "execution_count": 52,
      "outputs": [
        {
          "output_type": "stream",
          "name": "stdout",
          "text": [
            "the list is not empty\n"
          ]
        }
      ]
    },
    {
      "cell_type": "markdown",
      "source": [
        "6. Write a Python program to filter the list if the length of the character is < 4\n",
        "\n",
        "```\n",
        "Sample List : ['abc', 'xyz', 'aba', '1221']\n",
        "Expected Result: ['abc', 'xyz', 'aba']\n",
        "```\n"
      ],
      "metadata": {
        "id": "HPq-j6_5L6Bu"
      }
    },
    {
      "cell_type": "code",
      "source": [
        "mylist=['abc','pqrs','xyz','12','9','1221']\n",
        "result=[]\n",
        "for i in mylist:\n",
        "  if len(i)<4:\n",
        "    result.append(i)\n",
        "print(\"the result is\", result)"
      ],
      "metadata": {
        "id": "e0Rk_iusL-Du",
        "colab": {
          "base_uri": "https://localhost:8080/"
        },
        "outputId": "bb82617d-320a-4167-9690-0ceb2a79f847"
      },
      "execution_count": 53,
      "outputs": [
        {
          "output_type": "stream",
          "name": "stdout",
          "text": [
            "the result is ['abc', 'xyz', '12', '9']\n"
          ]
        }
      ]
    },
    {
      "cell_type": "markdown",
      "source": [
        "7.Write a Python program to find the second largest number in a list.\n"
      ],
      "metadata": {
        "id": "0Vo0Eo4GL_2N"
      }
    },
    {
      "cell_type": "code",
      "source": [
        "my_l=[26, 12 , 112, 112, 26, 46, 8, 92, 8, 14, 5]\n",
        "my_l.sort()\n",
        "print(my_l)\n",
        "i=1\n",
        "while -i>-len(my_l):\n",
        "\n",
        "  if my_l[-i]!=my_l[-i-1]:\n",
        "    print('the second largest number is',my_l[-i-1])\n",
        "    break\n",
        "  i+=1\n",
        "\n"
      ],
      "metadata": {
        "colab": {
          "base_uri": "https://localhost:8080/"
        },
        "id": "iCg2AniMYYxM",
        "outputId": "cfbdd2ef-c981-49e9-b9c3-2c2a29aae824"
      },
      "execution_count": 54,
      "outputs": [
        {
          "output_type": "stream",
          "name": "stdout",
          "text": [
            "[5, 8, 8, 12, 14, 26, 26, 46, 92, 112, 112]\n",
            "the second largest number is 92\n"
          ]
        }
      ]
    },
    {
      "cell_type": "markdown",
      "source": [
        "8. Write a Python program to reverse a list at a specific location.\n"
      ],
      "metadata": {
        "id": "aManSXvqMBoz"
      }
    },
    {
      "cell_type": "code",
      "source": [
        "#l=['adf','bsd','cdg','dfg','cxh','fhf','hdg']\n",
        "l=[2,33,6,9,12,4,56,22]\n",
        "print('The list is',l)\n",
        "rev_point=int(input('Specify the location to be reversed'))\n",
        "old_l=l[0:rev_point]\n",
        "new_l=l[rev_point:]\n",
        "new_l.reverse()\n",
        "print(\"The new list is\",old_l+new_l)"
      ],
      "metadata": {
        "id": "6-xOhDjGMCO4",
        "colab": {
          "base_uri": "https://localhost:8080/"
        },
        "outputId": "3b93b76a-1cb7-4d45-9fd6-483d0b97e67e"
      },
      "execution_count": 55,
      "outputs": [
        {
          "output_type": "stream",
          "name": "stdout",
          "text": [
            "The list is [2, 33, 6, 9, 12, 4, 56, 22]\n",
            "Specify the location to be reversed3\n",
            "The new list is [2, 33, 6, 22, 56, 4, 12, 9]\n"
          ]
        }
      ]
    },
    {
      "cell_type": "markdown",
      "source": [
        "9. Write a Python program to check if a list is a palindrome or not. Return true otherwise false.\n"
      ],
      "metadata": {
        "id": "-mIvdmfVMCyV"
      }
    },
    {
      "cell_type": "code",
      "source": [
        "#l1=[1, 2, 3, 5, 4, 3, 2, 1]\n",
        "l1=[1, 2, 2, 3, 2, 2, 1]\n",
        "l2=l1.copy()\n",
        "l1.reverse()\n",
        "\n",
        "if l1==l2:\n",
        "  print('true')\n",
        "else:\n",
        "  print('false')"
      ],
      "metadata": {
        "id": "128bnAjHMD_6",
        "colab": {
          "base_uri": "https://localhost:8080/"
        },
        "outputId": "d0749a70-ba17-4d43-cde5-825d7bcefd95"
      },
      "execution_count": 56,
      "outputs": [
        {
          "output_type": "stream",
          "name": "stdout",
          "text": [
            "true\n"
          ]
        }
      ]
    },
    {
      "cell_type": "markdown",
      "source": [
        "10. Write a Python a program to find the union and intersection of two lists.\n"
      ],
      "metadata": {
        "id": "r_OaahEUMFk9"
      }
    },
    {
      "cell_type": "code",
      "source": [
        "l1=[3,9,11,14,17]\n",
        "l2=[1,5,2,11,15,12,14,3]\n",
        "s1=set(l1)\n",
        "s2=set(l2)\n",
        "un_s=s1.union(s2)\n",
        "un_l=list(un_s)\n",
        "int=[]\n",
        "print('union of the two lists is', un_l)\n",
        "for i in l1:\n",
        "  if i in l2:\n",
        "    int.append(i)\n",
        "print('the intersection of the two lists is ',int)"
      ],
      "metadata": {
        "id": "g5Rw-SMQMF7d",
        "colab": {
          "base_uri": "https://localhost:8080/"
        },
        "outputId": "e4a41b46-d1f5-4773-ad2c-dcea15c14e8f"
      },
      "execution_count": 57,
      "outputs": [
        {
          "output_type": "stream",
          "name": "stdout",
          "text": [
            "union of the two lists is [1, 2, 3, 5, 9, 11, 12, 14, 15, 17]\n",
            "the intersection of the two lists is  [3, 11, 14]\n"
          ]
        }
      ]
    },
    {
      "cell_type": "markdown",
      "source": [
        "11.Write a Python script to sort (ascending and descending) a dictionary by value\n"
      ],
      "metadata": {
        "id": "O_KaZq9mMHMo"
      }
    },
    {
      "cell_type": "code",
      "source": [
        "mydict={'f':3, 's':2, 'k':8, 'q':26, 'h':15, 'm':12}\n",
        "print(\"the dictionary is \",mydict)\n",
        "print(\"Sorting in ascending order by values\")\n",
        "# Ascending Order\n",
        "val=sorted(list(mydict.values()))\n",
        "sorted_dict={}\n",
        "v=list(mydict.values())\n",
        "for i in val:\n",
        "  a=0\n",
        "  while a<len(mydict):\n",
        "    for k in list(mydict.keys()):\n",
        "      if i == v[a]:\n",
        "        sorted_dict.update({k:v[a]})\n",
        "      a+=1\n",
        "print(sorted_dict)\n",
        "\n",
        "print(\"\\nthe dictionary is \",mydict)\n",
        "print('Sorting in Descending order by values')\n",
        "# Descending Order\n",
        "val1=sorted(list(mydict.values()),reverse=True)\n",
        "rev_sort={}\n",
        "v1=list(mydict.values())\n",
        "for i in val1:\n",
        "  a=0\n",
        "  while a<len(mydict):\n",
        "    for k in list(mydict.keys()):\n",
        "      if i == v1[a]:\n",
        "        rev_sort.update({k:v[a]})\n",
        "      a+=1\n",
        "print(rev_sort)\n"
      ],
      "metadata": {
        "colab": {
          "base_uri": "https://localhost:8080/"
        },
        "id": "CLfjWbkJG6QH",
        "outputId": "337313d6-9c91-411c-e5b4-50ce5b9935b8"
      },
      "execution_count": 17,
      "outputs": [
        {
          "output_type": "stream",
          "name": "stdout",
          "text": [
            "the dictionary is  {'f': 3, 's': 2, 'k': 8, 'q': 26, 'h': 15, 'm': 12}\n",
            "Sorting in ascending order by values\n",
            "{'s': 2, 'f': 3, 'k': 8, 'm': 12, 'h': 15, 'q': 26}\n",
            "\n",
            "the dictionary is  {'f': 3, 's': 2, 'k': 8, 'q': 26, 'h': 15, 'm': 12}\n",
            "Sorting in Descending order by values\n",
            "{'q': 26, 'h': 15, 'm': 12, 'k': 8, 'f': 3, 's': 2}\n"
          ]
        }
      ]
    },
    {
      "cell_type": "markdown",
      "source": [
        "12. Write a Python script to check whether a given key already exists in a dictionary.\n"
      ],
      "metadata": {
        "id": "LRtPwyETMJFB"
      }
    },
    {
      "cell_type": "code",
      "source": [
        "mydict={'a':3, 'b':2, 'c':8, 'd':26, 'e':15, 'f':12}\n",
        "k_check=input('enter the required key ')\n",
        "k_check in mydict.keys()"
      ],
      "metadata": {
        "id": "CzQHm4IWMJX5",
        "colab": {
          "base_uri": "https://localhost:8080/"
        },
        "outputId": "76412ae1-8e03-4d5a-c155-1671697ae2ec"
      },
      "execution_count": 63,
      "outputs": [
        {
          "name": "stdout",
          "output_type": "stream",
          "text": [
            "enter the required key d\n"
          ]
        },
        {
          "output_type": "execute_result",
          "data": {
            "text/plain": [
              "True"
            ]
          },
          "metadata": {},
          "execution_count": 63
        }
      ]
    },
    {
      "cell_type": "markdown",
      "source": [
        "13.Write a Python program to sum all the values in a dictionary.\n"
      ],
      "metadata": {
        "id": "ndM9xtBpMK7b"
      }
    },
    {
      "cell_type": "code",
      "source": [
        "mydict={'a':3, 'b':2, 'c':8, 'd':26, 'e':15, 'f':12}\n",
        "val=list(mydict.values())\n",
        "sum=0\n",
        "i=0\n",
        "while i < len(val):\n",
        "  sum+=val[i]\n",
        "  i+=1\n",
        "print(sum)"
      ],
      "metadata": {
        "id": "-UBNCNxbMLNa",
        "colab": {
          "base_uri": "https://localhost:8080/"
        },
        "outputId": "14a83e15-e9fc-4122-84f0-7820fe05fbae"
      },
      "execution_count": 80,
      "outputs": [
        {
          "output_type": "stream",
          "name": "stdout",
          "text": [
            "66\n"
          ]
        }
      ]
    },
    {
      "cell_type": "markdown",
      "source": [
        "14.Write a Python program to create a dictionary with a number and its corresponding square from 1 to input number. And also check if the input number is less than 10\n",
        "\n",
        "```\n",
        "Eg:\n",
        "Input : 3\n",
        "Output : {1:1, 2:4, 3:9}\n",
        "```"
      ],
      "metadata": {
        "id": "0qVfQATqMNdJ"
      }
    },
    {
      "cell_type": "code",
      "source": [
        "ipt=int(input('Enter the input number '))\n",
        "dic={i:i**2 for i in range(1,ipt+1)}\n",
        "print('the dictionary is ',dic)\n",
        "if ipt<10:\n",
        "  print('\\nthe input number is less than 10')"
      ],
      "metadata": {
        "colab": {
          "base_uri": "https://localhost:8080/"
        },
        "id": "gEZXqHExvQun",
        "outputId": "6015d227-f502-4f60-e49e-4b3632076f6b"
      },
      "execution_count": 27,
      "outputs": [
        {
          "output_type": "stream",
          "name": "stdout",
          "text": [
            "Enter the input number 3\n",
            "the dictionary is  {1: 1, 2: 4, 3: 9}\n",
            "\n",
            "the input number is less than 10\n"
          ]
        }
      ]
    },
    {
      "cell_type": "markdown",
      "source": [
        "15.Write a Python program to sort a given dictionary by key.\n"
      ],
      "metadata": {
        "id": "5Ku1ZCBMMRGO"
      }
    },
    {
      "cell_type": "code",
      "source": [
        "mydict={'v':3, 'b':2, 'j':8, 'e':26, 'm':15, 's':12}\n",
        "print('the given dictionary is ',mydict)\n",
        "tup=mydict.items()\n",
        "y=sorted(tup)\n",
        "dic={k:v for k,v in y}\n",
        "print('the sorted dictionary is',dic)"
      ],
      "metadata": {
        "id": "Uo1ha3q4MRaG",
        "colab": {
          "base_uri": "https://localhost:8080/"
        },
        "outputId": "15162824-aee2-4759-990d-9c089d4adc9b"
      },
      "execution_count": 28,
      "outputs": [
        {
          "output_type": "stream",
          "name": "stdout",
          "text": [
            "the given dictionary is  {'v': 3, 'b': 2, 'j': 8, 'e': 26, 'm': 15, 's': 12}\n",
            "the sorted dictionary is {'b': 2, 'e': 26, 'j': 8, 'm': 15, 's': 12, 'v': 3}\n"
          ]
        }
      ]
    },
    {
      "cell_type": "markdown",
      "source": [
        "16.  Write a Python program to create a dictionary from a string.\n",
        "\n",
        "```\n",
        "Note: Track the count of the letters from the string.\n",
        "Sample string : 'learnpython'\n",
        "Expected output: {'l': 1, 'e': 1, 'a': 1, 'r': 1, 'n': 2, 'p': 1, 'y': 1, 't': 1, 'h': 1, 'o': 1}\n",
        "\n",
        "```"
      ],
      "metadata": {
        "id": "VFB6DT7uMTCo"
      }
    },
    {
      "cell_type": "code",
      "source": [
        "#s1=\"hello\"\n",
        "s1=input('enter the string ')\n",
        "print('the string is', s1)\n",
        "l1=list(s1)\n",
        "count=[]\n",
        "i=0\n",
        "while i<len(l1):\n",
        "  c=l1.count(l1[i])\n",
        "  count.append(c)\n",
        "  i+=1\n",
        "newdict={k:v for k,v in zip(l1,count)}\n",
        "print(newdict)\n"
      ],
      "metadata": {
        "id": "Pst-k-SZMTUo",
        "colab": {
          "base_uri": "https://localhost:8080/"
        },
        "outputId": "74b86ae5-e6b1-49b3-c0e5-4048333daf6f"
      },
      "execution_count": 83,
      "outputs": [
        {
          "output_type": "stream",
          "name": "stdout",
          "text": [
            "enter the string hellooo\n",
            "the string is hellooo\n",
            "{'h': 1, 'e': 1, 'l': 2, 'o': 3}\n"
          ]
        }
      ]
    },
    {
      "cell_type": "markdown",
      "source": [
        "17. Write a Python program to get the top three items in a shop.\n",
        "\n",
        "```\n",
        "Sample data: {'item1': 45.50, 'item2':35, 'item3': 41.30, 'item4':55, 'item5': 24}\n",
        "\n",
        "Expected Output:\n",
        "item4 55\n",
        "item1 45.5\n",
        "item3 41.3\n",
        "```\n"
      ],
      "metadata": {
        "id": "OnYknUtWMYSr"
      }
    },
    {
      "cell_type": "code",
      "source": [
        "sample={'item1': 45.50, 'item2':35, 'item3': 41.30, 'item4':55, 'item5': 24}\n",
        "print('our data is',sample)\n",
        "value=sorted(list(sample.values()),reverse=True)\n",
        "top=value[:3]\n",
        "v1=list(sample.values())\n",
        "print('\\nthe top selling items in the shop are:\\n')\n",
        "for i in top:\n",
        "  a=0\n",
        "  while a<len(sample):\n",
        "    for k in list(sample.keys()):\n",
        "      if i == v1[a]:\n",
        "        print(k,v1[a])\n",
        "      a+=1\n"
      ],
      "metadata": {
        "colab": {
          "base_uri": "https://localhost:8080/"
        },
        "id": "MQtlJWslwvy0",
        "outputId": "4e441093-5400-4979-a741-b2d18e201d22"
      },
      "execution_count": 58,
      "outputs": [
        {
          "output_type": "stream",
          "name": "stdout",
          "text": [
            "our data is {'item1': 45.5, 'item2': 35, 'item3': 41.3, 'item4': 55, 'item5': 24}\n",
            "\n",
            "the top selling items in the shop are:\n",
            "\n",
            "item4 55\n",
            "item1 45.5\n",
            "item3 41.3\n"
          ]
        }
      ]
    }
  ]
}