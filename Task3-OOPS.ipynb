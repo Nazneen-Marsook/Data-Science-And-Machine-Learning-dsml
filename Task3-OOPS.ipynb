{
  "nbformat": 4,
  "nbformat_minor": 0,
  "metadata": {
    "colab": {
      "provenance": []
    },
    "kernelspec": {
      "name": "python3",
      "display_name": "Python 3"
    },
    "language_info": {
      "name": "python"
    }
  },
  "cells": [
    {
      "cell_type": "markdown",
      "source": [
        "1.  Write a Python program to create a class representing a Circle. Include methods to calculate its area and perimeter."
      ],
      "metadata": {
        "id": "Y2IV-XIpnHY9"
      }
    },
    {
      "cell_type": "code",
      "source": [
        "class Circle:\n",
        "  def __init__(self,radius):\n",
        "    self.radius=radius\n",
        "  def area(self):\n",
        "    area=3.14*(self.radius**2)\n",
        "    print(f\"Area of the circle is {area} sq m\")\n",
        "  def perimeter(self):\n",
        "    perimeter=2*3.14*self.radius\n",
        "    print(f\"Perimeter of the circle is {perimeter} m\")\n",
        "\n",
        "radius=int(input(\"Enter the readius of the circle: \"))\n",
        "c1=Circle(radius)\n",
        "c1.area()\n",
        "c1.perimeter()"
      ],
      "metadata": {
        "colab": {
          "base_uri": "https://localhost:8080/"
        },
        "id": "XkFpjKvpnG0f",
        "outputId": "e8d58ffe-6f6c-4e4e-8d6c-5bb39ce02f62"
      },
      "execution_count": 26,
      "outputs": [
        {
          "output_type": "stream",
          "name": "stdout",
          "text": [
            "Enter the readius of the circle: 3\n",
            "Area of the circle is 28.26 sq m\n",
            "Perimeter of the circle is 18.84 m\n"
          ]
        }
      ]
    },
    {
      "cell_type": "markdown",
      "source": [
        "2. Write a Python program to create a calculator class. Include methods for basic arithmetic operations."
      ],
      "metadata": {
        "id": "U_MsuWjsoyrq"
      }
    },
    {
      "cell_type": "code",
      "execution_count": 23,
      "metadata": {
        "colab": {
          "base_uri": "https://localhost:8080/"
        },
        "id": "q3PfBXNwnBti",
        "outputId": "a3d7293e-6f35-405b-e1d0-a3e9196aa562"
      },
      "outputs": [
        {
          "output_type": "stream",
          "name": "stdout",
          "text": [
            "Enter the first number : 10\n",
            "Enter the second number : 2\n",
            "10 + 2 = 12\n",
            "10 - 2 = 8\n",
            "10 * 2 = 20\n",
            "10 / 2 = 5.0\n"
          ]
        }
      ],
      "source": [
        "class Calculator:\n",
        "  def __init__(self,num1,num2):\n",
        "    self.num1=num1\n",
        "    self.num2=num2\n",
        "  def add(self):\n",
        "    add=self.num1+self.num2\n",
        "    print(f\"{self.num1} + {self.num2} = {add}\")\n",
        "  def sub(self):\n",
        "    sub=self.num1-self.num2\n",
        "    print(f\"{self.num1} - {self.num2} = {sub}\")\n",
        "  def mul(self):\n",
        "    mul=self.num1*self.num2\n",
        "    print(f\"{self.num1} * {self.num2} = {mul}\")\n",
        "  def div(self):\n",
        "    if self.num2==0:\n",
        "      print(\"Divisor cannot be zero\")\n",
        "    else:\n",
        "      div=self.num1/self.num2\n",
        "      print(f\"{self.num1} / {self.num2} = {div}\")\n",
        "\n",
        "num1=int(input(\"Enter the first number : \"))\n",
        "num2=int(input(\"Enter the second number : \"))\n",
        "\n",
        "test=Calculator(num1,num2)\n",
        "test.add()\n",
        "test.sub()\n",
        "test.mul()\n",
        "test.div()\n"
      ]
    },
    {
      "cell_type": "markdown",
      "source": [
        "3. Write a Python program to create a class that represents a shape. Include methods to calculate its area and perimeter. Implement subclasses for different shapes like circle, triangle, and square.\n"
      ],
      "metadata": {
        "id": "R43TGz8849PL"
      }
    },
    {
      "cell_type": "code",
      "source": [
        "class Shapes:\n",
        "  def area(self):\n",
        "    pass\n",
        "  def perimeter(self):\n",
        "    pass\n",
        "\n",
        "class Circle(Shapes):\n",
        "  def __init__(self,radius):\n",
        "    self.radius=radius\n",
        "  def area(self):\n",
        "    area=3.14*(self.radius**2)\n",
        "    print(f\"Area of the circle is {area} sq m\")\n",
        "  def perimeter(self):\n",
        "    perimeter=2*3.14*self.radius\n",
        "    print(f\"Perimeter of the circle is {perimeter} m\")\n",
        "\n",
        "class Triangle(Shapes):\n",
        "  def __init__(self,base,height,side1,side2,side3):\n",
        "    self.base=base\n",
        "    self.height=height\n",
        "    self.side1=side1\n",
        "    self.side2=side2\n",
        "    self.side3=side3\n",
        "  def area(self):\n",
        "    area=0.5*self.base*self.height\n",
        "    print(f\"Area of the triangle is {area} sq m\")\n",
        "  def perimeter(self):\n",
        "    perimeter=self.side1+self.side2+self.side3\n",
        "    print(f\"Perimeter of the triangle is {perimeter} m\")\n",
        "\n",
        "class Square(Shapes):\n",
        "  def __init__(self,side):\n",
        "    self.side=side\n",
        "  def area(self):\n",
        "    area=self.side**2\n",
        "    print(f\"Area of the square is {area} sq m\")\n",
        "  def perimeter(self):\n",
        "    perimeter=4*self.side\n",
        "    print(f\"Perimeter of the square is {perimeter} m\")\n",
        "\n",
        "radius=int(input(\"Enter the readius of the circle: \"))\n",
        "c1=Circle(radius)\n",
        "c1.area()\n",
        "c1.perimeter()\n",
        "\n",
        "base=int(input(\"\\nEnter the base of the triangle : \"))\n",
        "height=int(input(\"Enter the height of the triangle : \"))\n",
        "side1=int(input(\"Enter the first side of the triangle : \"))\n",
        "side2=int(input(\"Enter the second side of the triangle : \"))\n",
        "side3=int(input(\"Enter the third side of the triangle : \"))\n",
        "t1=Triangle(base,height,side1,side2,side3)\n",
        "t1.area()\n",
        "t1.perimeter()\n",
        "\n",
        "side=int(input(\"\\nEnter the side of the square: \"))\n",
        "s1=Square(side)\n",
        "s1.area()\n",
        "s1.perimeter()"
      ],
      "metadata": {
        "colab": {
          "base_uri": "https://localhost:8080/"
        },
        "id": "ETQjyNLfwcS2",
        "outputId": "5ec1e875-e0cb-4948-d207-3ad75b8cc2f9"
      },
      "execution_count": 28,
      "outputs": [
        {
          "output_type": "stream",
          "name": "stdout",
          "text": [
            "Enter the readius of the circle: 3\n",
            "Area of the circle is 28.26 sq m\n",
            "Perimeter of the circle is 18.84 m\n",
            "\n",
            "Enter the base of the triangle : 2\n",
            "Enter the height of the triangle : 3\n",
            "Enter the first side of the triangle : 1\n",
            "Enter the second side of the triangle : 2\n",
            "Enter the third side of the triangle : 3\n",
            "Area of the triangle is 3.0 sq m\n",
            "Perimeter of the triangle is 6 m\n",
            "\n",
            "Enter the side of the square: 3\n",
            "Area of the square is 9 sq m\n",
            "Perimeter of the square is 12 m\n"
          ]
        }
      ]
    }
  ]
}