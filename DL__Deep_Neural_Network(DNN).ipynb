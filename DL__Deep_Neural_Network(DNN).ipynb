{
  "nbformat": 4,
  "nbformat_minor": 0,
  "metadata": {
    "colab": {
      "provenance": []
    },
    "kernelspec": {
      "name": "python3",
      "display_name": "Python 3"
    },
    "language_info": {
      "name": "python"
    }
  },
  "cells": [
    {
      "cell_type": "code",
      "source": [
        "import numpy as np\n",
        "import pandas as pd\n",
        "from sklearn.model_selection import train_test_split\n",
        "from sklearn.preprocessing import StandardScaler\n",
        "from sklearn.datasets import load_iris\n",
        "from keras.models import Sequential\n",
        "from keras.layers import Dense\n",
        "from keras.optimizers import Adam\n",
        "import tensorflow as tf\n"
      ],
      "metadata": {
        "id": "uoVs4_ibTcRy"
      },
      "execution_count": 74,
      "outputs": []
    },
    {
      "cell_type": "markdown",
      "source": [
        "https://www.analyticsvidhya.com/blog/2021/10/a-comprehensive-guide-on-deep-learning-optimizers"
      ],
      "metadata": {
        "id": "NU3wJln7bpiS"
      }
    },
    {
      "cell_type": "code",
      "source": [
        "# Load the Iris dataset\n",
        "iris = load_iris()\n",
        "X, y = iris.data, iris.target"
      ],
      "metadata": {
        "id": "MvOUERslTcAc"
      },
      "execution_count": 75,
      "outputs": []
    },
    {
      "cell_type": "code",
      "source": [
        "# Split the data into training and testing sets\n",
        "X_train, X_test, y_train, y_test = train_test_split(X, y, test_size=0.2, random_state=42)\n",
        "\n",
        "# Standardize the features\n",
        "scaler = StandardScaler()\n",
        "X_train = scaler.fit_transform(X_train)\n",
        "X_test = scaler.transform(X_test)\n",
        "\n",
        "# Convert labels to one-hot encoding\n",
        "y_train = tf.keras.utils.to_categorical(y_train, num_classes=3)\n",
        "y_test = tf.keras.utils.to_categorical(y_test, num_classes=3)"
      ],
      "metadata": {
        "id": "c2xvNw81Tn9o"
      },
      "execution_count": 76,
      "outputs": []
    },
    {
      "cell_type": "code",
      "source": [
        "# Create a Deep Neural Network model\n",
        "model = Sequential()\n",
        "model.add(Dense(100, activation='relu', input_dim=4))\n",
        "model.add(Dense(50, activation='relu'))\n",
        "model.add(Dense(3, activation='softmax'))"
      ],
      "metadata": {
        "id": "BQkb2OV5TsnQ"
      },
      "execution_count": 77,
      "outputs": []
    },
    {
      "cell_type": "code",
      "source": [
        "X_train[0]"
      ],
      "metadata": {
        "colab": {
          "base_uri": "https://localhost:8080/"
        },
        "id": "cSxieWeFdX-p",
        "outputId": "6806e041-5976-40a7-ac91-37df8e1d5cb5"
      },
      "execution_count": 78,
      "outputs": [
        {
          "output_type": "execute_result",
          "data": {
            "text/plain": [
              "array([-1.47393679,  1.20365799, -1.56253475, -1.31260282])"
            ]
          },
          "metadata": {},
          "execution_count": 78
        }
      ]
    },
    {
      "cell_type": "code",
      "source": [
        "# Compile the model\n",
        "model.compile(optimizer=Adam(learning_rate=0.001), loss='categorical_crossentropy', metrics=['accuracy'])"
      ],
      "metadata": {
        "id": "2ONvE1jnUFVb"
      },
      "execution_count": 80,
      "outputs": []
    },
    {
      "cell_type": "code",
      "source": [
        "len(y_train)"
      ],
      "metadata": {
        "id": "wrms94nFd7eU",
        "outputId": "9fc498a8-51e0-44ef-92f7-b7f03ac5e9e5",
        "colab": {
          "base_uri": "https://localhost:8080/"
        }
      },
      "execution_count": 33,
      "outputs": [
        {
          "output_type": "execute_result",
          "data": {
            "text/plain": [
              "120"
            ]
          },
          "metadata": {},
          "execution_count": 33
        }
      ]
    },
    {
      "cell_type": "code",
      "source": [
        "len(X_train)"
      ],
      "metadata": {
        "id": "Ze2m40dxd_AQ",
        "outputId": "36a37959-194b-4eaa-93d9-9ece02dd035e",
        "colab": {
          "base_uri": "https://localhost:8080/"
        }
      },
      "execution_count": 34,
      "outputs": [
        {
          "output_type": "execute_result",
          "data": {
            "text/plain": [
              "120"
            ]
          },
          "metadata": {},
          "execution_count": 34
        }
      ]
    },
    {
      "cell_type": "code",
      "source": [
        "X_train.shape"
      ],
      "metadata": {
        "colab": {
          "base_uri": "https://localhost:8080/"
        },
        "id": "VOBgXEzPo7ac",
        "outputId": "302561b9-4a83-480e-a32c-5f658c74a040"
      },
      "execution_count": 9,
      "outputs": [
        {
          "output_type": "execute_result",
          "data": {
            "text/plain": [
              "(120, 4)"
            ]
          },
          "metadata": {},
          "execution_count": 9
        }
      ]
    },
    {
      "cell_type": "code",
      "source": [
        "y_train.shape"
      ],
      "metadata": {
        "colab": {
          "base_uri": "https://localhost:8080/"
        },
        "id": "caM5WLhkpMqS",
        "outputId": "38cd035d-3af5-460b-a057-0bddc68df272"
      },
      "execution_count": 10,
      "outputs": [
        {
          "output_type": "execute_result",
          "data": {
            "text/plain": [
              "(120, 3)"
            ]
          },
          "metadata": {},
          "execution_count": 10
        }
      ]
    },
    {
      "cell_type": "markdown",
      "source": [
        "An epoch is composed of many iterations (or batches). Iterations: the number of batches needed to complete one Epoch. Batch Size: The number of training samples used in one iteration. Epoch: one full cycle through the training dataset"
      ],
      "metadata": {
        "id": "eMxJ2VSOo7tz"
      }
    },
    {
      "cell_type": "code",
      "source": [
        "150/32\n",
        "#So 4 iterations are required for 1 epoch(to pass the whole training dataset)."
      ],
      "metadata": {
        "colab": {
          "base_uri": "https://localhost:8080/"
        },
        "id": "dMMHEjrcTXEH",
        "outputId": "580c0ba2-8014-4791-c472-4f7b6135355c"
      },
      "execution_count": 12,
      "outputs": [
        {
          "output_type": "execute_result",
          "data": {
            "text/plain": [
              "4.6875"
            ]
          },
          "metadata": {},
          "execution_count": 12
        }
      ]
    },
    {
      "cell_type": "code",
      "source": [
        "# Train the model\n",
        "history=model.fit(X_train, y_train, epochs=100, batch_size=32, verbose=1,\n",
        "                  validation_data=(X_test,y_test))"
      ],
      "metadata": {
        "colab": {
          "base_uri": "https://localhost:8080/"
        },
        "id": "_FWC90RgUJMd",
        "outputId": "9b15479d-fa6c-48f4-eb78-4497cbadce60"
      },
      "execution_count": 81,
      "outputs": [
        {
          "output_type": "stream",
          "name": "stdout",
          "text": [
            "Epoch 1/100\n",
            "4/4 [==============================] - 1s 66ms/step - loss: 1.0410 - accuracy: 0.5833 - val_loss: 0.9430 - val_accuracy: 0.7333\n",
            "Epoch 2/100\n",
            "4/4 [==============================] - 0s 12ms/step - loss: 0.9018 - accuracy: 0.7833 - val_loss: 0.8060 - val_accuracy: 0.8000\n",
            "Epoch 3/100\n",
            "4/4 [==============================] - 0s 12ms/step - loss: 0.7841 - accuracy: 0.7833 - val_loss: 0.6906 - val_accuracy: 0.8000\n",
            "Epoch 4/100\n",
            "4/4 [==============================] - 0s 11ms/step - loss: 0.6841 - accuracy: 0.7833 - val_loss: 0.5970 - val_accuracy: 0.8000\n",
            "Epoch 5/100\n",
            "4/4 [==============================] - 0s 11ms/step - loss: 0.6040 - accuracy: 0.7833 - val_loss: 0.5221 - val_accuracy: 0.8333\n",
            "Epoch 6/100\n",
            "4/4 [==============================] - 0s 11ms/step - loss: 0.5369 - accuracy: 0.7917 - val_loss: 0.4627 - val_accuracy: 0.8333\n",
            "Epoch 7/100\n",
            "4/4 [==============================] - 0s 11ms/step - loss: 0.4848 - accuracy: 0.7833 - val_loss: 0.4143 - val_accuracy: 0.8667\n",
            "Epoch 8/100\n",
            "4/4 [==============================] - 0s 17ms/step - loss: 0.4422 - accuracy: 0.8167 - val_loss: 0.3750 - val_accuracy: 0.9000\n",
            "Epoch 9/100\n",
            "4/4 [==============================] - 0s 11ms/step - loss: 0.4079 - accuracy: 0.8167 - val_loss: 0.3425 - val_accuracy: 0.9000\n",
            "Epoch 10/100\n",
            "4/4 [==============================] - 0s 11ms/step - loss: 0.3798 - accuracy: 0.8167 - val_loss: 0.3159 - val_accuracy: 0.9000\n",
            "Epoch 11/100\n",
            "4/4 [==============================] - 0s 11ms/step - loss: 0.3561 - accuracy: 0.8417 - val_loss: 0.2938 - val_accuracy: 0.9000\n",
            "Epoch 12/100\n",
            "4/4 [==============================] - 0s 11ms/step - loss: 0.3385 - accuracy: 0.8583 - val_loss: 0.2740 - val_accuracy: 0.9333\n",
            "Epoch 13/100\n",
            "4/4 [==============================] - 0s 11ms/step - loss: 0.3211 - accuracy: 0.8750 - val_loss: 0.2568 - val_accuracy: 0.9333\n",
            "Epoch 14/100\n",
            "4/4 [==============================] - 0s 11ms/step - loss: 0.3071 - accuracy: 0.8833 - val_loss: 0.2439 - val_accuracy: 0.9333\n",
            "Epoch 15/100\n",
            "4/4 [==============================] - 0s 11ms/step - loss: 0.2929 - accuracy: 0.8833 - val_loss: 0.2315 - val_accuracy: 0.9333\n",
            "Epoch 16/100\n",
            "4/4 [==============================] - 0s 12ms/step - loss: 0.2809 - accuracy: 0.8833 - val_loss: 0.2196 - val_accuracy: 0.9333\n",
            "Epoch 17/100\n",
            "4/4 [==============================] - 0s 12ms/step - loss: 0.2704 - accuracy: 0.8833 - val_loss: 0.2086 - val_accuracy: 0.9333\n",
            "Epoch 18/100\n",
            "4/4 [==============================] - 0s 12ms/step - loss: 0.2597 - accuracy: 0.8833 - val_loss: 0.2000 - val_accuracy: 0.9333\n",
            "Epoch 19/100\n",
            "4/4 [==============================] - 0s 11ms/step - loss: 0.2499 - accuracy: 0.9000 - val_loss: 0.1918 - val_accuracy: 0.9333\n",
            "Epoch 20/100\n",
            "4/4 [==============================] - 0s 11ms/step - loss: 0.2408 - accuracy: 0.9083 - val_loss: 0.1849 - val_accuracy: 0.9333\n",
            "Epoch 21/100\n",
            "4/4 [==============================] - 0s 13ms/step - loss: 0.2316 - accuracy: 0.9167 - val_loss: 0.1784 - val_accuracy: 0.9333\n",
            "Epoch 22/100\n",
            "4/4 [==============================] - 0s 11ms/step - loss: 0.2241 - accuracy: 0.9333 - val_loss: 0.1701 - val_accuracy: 0.9333\n",
            "Epoch 23/100\n",
            "4/4 [==============================] - 0s 11ms/step - loss: 0.2155 - accuracy: 0.9333 - val_loss: 0.1625 - val_accuracy: 0.9333\n",
            "Epoch 24/100\n",
            "4/4 [==============================] - 0s 11ms/step - loss: 0.2082 - accuracy: 0.9417 - val_loss: 0.1606 - val_accuracy: 0.9333\n",
            "Epoch 25/100\n",
            "4/4 [==============================] - 0s 12ms/step - loss: 0.1988 - accuracy: 0.9417 - val_loss: 0.1543 - val_accuracy: 0.9333\n",
            "Epoch 26/100\n",
            "4/4 [==============================] - 0s 11ms/step - loss: 0.1912 - accuracy: 0.9500 - val_loss: 0.1469 - val_accuracy: 0.9333\n",
            "Epoch 27/100\n",
            "4/4 [==============================] - 0s 11ms/step - loss: 0.1839 - accuracy: 0.9583 - val_loss: 0.1411 - val_accuracy: 0.9333\n",
            "Epoch 28/100\n",
            "4/4 [==============================] - 0s 11ms/step - loss: 0.1769 - accuracy: 0.9583 - val_loss: 0.1368 - val_accuracy: 0.9667\n",
            "Epoch 29/100\n",
            "4/4 [==============================] - 0s 10ms/step - loss: 0.1701 - accuracy: 0.9583 - val_loss: 0.1329 - val_accuracy: 0.9667\n",
            "Epoch 30/100\n",
            "4/4 [==============================] - 0s 12ms/step - loss: 0.1637 - accuracy: 0.9583 - val_loss: 0.1291 - val_accuracy: 1.0000\n",
            "Epoch 31/100\n",
            "4/4 [==============================] - 0s 13ms/step - loss: 0.1579 - accuracy: 0.9583 - val_loss: 0.1239 - val_accuracy: 1.0000\n",
            "Epoch 32/100\n",
            "4/4 [==============================] - 0s 12ms/step - loss: 0.1516 - accuracy: 0.9583 - val_loss: 0.1203 - val_accuracy: 1.0000\n",
            "Epoch 33/100\n",
            "4/4 [==============================] - 0s 11ms/step - loss: 0.1465 - accuracy: 0.9583 - val_loss: 0.1169 - val_accuracy: 1.0000\n",
            "Epoch 34/100\n",
            "4/4 [==============================] - 0s 11ms/step - loss: 0.1410 - accuracy: 0.9583 - val_loss: 0.1117 - val_accuracy: 1.0000\n",
            "Epoch 35/100\n",
            "4/4 [==============================] - 0s 12ms/step - loss: 0.1357 - accuracy: 0.9583 - val_loss: 0.1071 - val_accuracy: 1.0000\n",
            "Epoch 36/100\n",
            "4/4 [==============================] - 0s 11ms/step - loss: 0.1303 - accuracy: 0.9583 - val_loss: 0.1038 - val_accuracy: 1.0000\n",
            "Epoch 37/100\n",
            "4/4 [==============================] - 0s 11ms/step - loss: 0.1264 - accuracy: 0.9667 - val_loss: 0.1014 - val_accuracy: 1.0000\n",
            "Epoch 38/100\n",
            "4/4 [==============================] - 0s 11ms/step - loss: 0.1217 - accuracy: 0.9667 - val_loss: 0.0957 - val_accuracy: 1.0000\n",
            "Epoch 39/100\n",
            "4/4 [==============================] - 0s 12ms/step - loss: 0.1171 - accuracy: 0.9667 - val_loss: 0.0927 - val_accuracy: 1.0000\n",
            "Epoch 40/100\n",
            "4/4 [==============================] - 0s 12ms/step - loss: 0.1140 - accuracy: 0.9667 - val_loss: 0.0880 - val_accuracy: 1.0000\n",
            "Epoch 41/100\n",
            "4/4 [==============================] - 0s 12ms/step - loss: 0.1089 - accuracy: 0.9667 - val_loss: 0.0865 - val_accuracy: 1.0000\n",
            "Epoch 42/100\n",
            "4/4 [==============================] - 0s 11ms/step - loss: 0.1059 - accuracy: 0.9750 - val_loss: 0.0854 - val_accuracy: 1.0000\n",
            "Epoch 43/100\n",
            "4/4 [==============================] - 0s 12ms/step - loss: 0.1016 - accuracy: 0.9750 - val_loss: 0.0817 - val_accuracy: 1.0000\n",
            "Epoch 44/100\n",
            "4/4 [==============================] - 0s 13ms/step - loss: 0.0985 - accuracy: 0.9750 - val_loss: 0.0793 - val_accuracy: 1.0000\n",
            "Epoch 45/100\n",
            "4/4 [==============================] - 0s 12ms/step - loss: 0.0956 - accuracy: 0.9750 - val_loss: 0.0768 - val_accuracy: 1.0000\n",
            "Epoch 46/100\n",
            "4/4 [==============================] - 0s 11ms/step - loss: 0.0942 - accuracy: 0.9750 - val_loss: 0.0742 - val_accuracy: 1.0000\n",
            "Epoch 47/100\n",
            "4/4 [==============================] - 0s 11ms/step - loss: 0.0902 - accuracy: 0.9750 - val_loss: 0.0697 - val_accuracy: 1.0000\n",
            "Epoch 48/100\n",
            "4/4 [==============================] - 0s 12ms/step - loss: 0.0876 - accuracy: 0.9750 - val_loss: 0.0663 - val_accuracy: 1.0000\n",
            "Epoch 49/100\n",
            "4/4 [==============================] - 0s 11ms/step - loss: 0.0851 - accuracy: 0.9750 - val_loss: 0.0637 - val_accuracy: 1.0000\n",
            "Epoch 50/100\n",
            "4/4 [==============================] - 0s 11ms/step - loss: 0.0829 - accuracy: 0.9750 - val_loss: 0.0614 - val_accuracy: 1.0000\n",
            "Epoch 51/100\n",
            "4/4 [==============================] - 0s 11ms/step - loss: 0.0804 - accuracy: 0.9750 - val_loss: 0.0589 - val_accuracy: 1.0000\n",
            "Epoch 52/100\n",
            "4/4 [==============================] - 0s 13ms/step - loss: 0.0787 - accuracy: 0.9750 - val_loss: 0.0581 - val_accuracy: 1.0000\n",
            "Epoch 53/100\n",
            "4/4 [==============================] - 0s 12ms/step - loss: 0.0767 - accuracy: 0.9750 - val_loss: 0.0581 - val_accuracy: 1.0000\n",
            "Epoch 54/100\n",
            "4/4 [==============================] - 0s 20ms/step - loss: 0.0746 - accuracy: 0.9833 - val_loss: 0.0566 - val_accuracy: 1.0000\n",
            "Epoch 55/100\n",
            "4/4 [==============================] - 0s 11ms/step - loss: 0.0732 - accuracy: 0.9833 - val_loss: 0.0562 - val_accuracy: 1.0000\n",
            "Epoch 56/100\n",
            "4/4 [==============================] - 0s 11ms/step - loss: 0.0716 - accuracy: 0.9833 - val_loss: 0.0545 - val_accuracy: 1.0000\n",
            "Epoch 57/100\n",
            "4/4 [==============================] - 0s 11ms/step - loss: 0.0702 - accuracy: 0.9833 - val_loss: 0.0528 - val_accuracy: 1.0000\n",
            "Epoch 58/100\n",
            "4/4 [==============================] - 0s 12ms/step - loss: 0.0688 - accuracy: 0.9833 - val_loss: 0.0494 - val_accuracy: 1.0000\n",
            "Epoch 59/100\n",
            "4/4 [==============================] - 0s 11ms/step - loss: 0.0672 - accuracy: 0.9833 - val_loss: 0.0476 - val_accuracy: 1.0000\n",
            "Epoch 60/100\n",
            "4/4 [==============================] - 0s 11ms/step - loss: 0.0682 - accuracy: 0.9833 - val_loss: 0.0482 - val_accuracy: 1.0000\n",
            "Epoch 61/100\n",
            "4/4 [==============================] - 0s 13ms/step - loss: 0.0645 - accuracy: 0.9833 - val_loss: 0.0460 - val_accuracy: 1.0000\n",
            "Epoch 62/100\n",
            "4/4 [==============================] - 0s 13ms/step - loss: 0.0634 - accuracy: 0.9833 - val_loss: 0.0457 - val_accuracy: 1.0000\n",
            "Epoch 63/100\n",
            "4/4 [==============================] - 0s 11ms/step - loss: 0.0632 - accuracy: 0.9750 - val_loss: 0.0436 - val_accuracy: 1.0000\n",
            "Epoch 64/100\n",
            "4/4 [==============================] - 0s 11ms/step - loss: 0.0619 - accuracy: 0.9750 - val_loss: 0.0421 - val_accuracy: 1.0000\n",
            "Epoch 65/100\n",
            "4/4 [==============================] - 0s 11ms/step - loss: 0.0609 - accuracy: 0.9750 - val_loss: 0.0410 - val_accuracy: 1.0000\n",
            "Epoch 66/100\n",
            "4/4 [==============================] - 0s 11ms/step - loss: 0.0607 - accuracy: 0.9833 - val_loss: 0.0412 - val_accuracy: 1.0000\n",
            "Epoch 67/100\n",
            "4/4 [==============================] - 0s 11ms/step - loss: 0.0590 - accuracy: 0.9833 - val_loss: 0.0401 - val_accuracy: 1.0000\n",
            "Epoch 68/100\n",
            "4/4 [==============================] - 0s 11ms/step - loss: 0.0578 - accuracy: 0.9833 - val_loss: 0.0386 - val_accuracy: 1.0000\n",
            "Epoch 69/100\n",
            "4/4 [==============================] - 0s 17ms/step - loss: 0.0580 - accuracy: 0.9833 - val_loss: 0.0385 - val_accuracy: 1.0000\n",
            "Epoch 70/100\n",
            "4/4 [==============================] - 0s 11ms/step - loss: 0.0568 - accuracy: 0.9833 - val_loss: 0.0383 - val_accuracy: 1.0000\n",
            "Epoch 71/100\n",
            "4/4 [==============================] - 0s 12ms/step - loss: 0.0564 - accuracy: 0.9833 - val_loss: 0.0379 - val_accuracy: 1.0000\n",
            "Epoch 72/100\n",
            "4/4 [==============================] - 0s 11ms/step - loss: 0.0550 - accuracy: 0.9833 - val_loss: 0.0364 - val_accuracy: 1.0000\n",
            "Epoch 73/100\n",
            "4/4 [==============================] - 0s 11ms/step - loss: 0.0545 - accuracy: 0.9833 - val_loss: 0.0352 - val_accuracy: 1.0000\n",
            "Epoch 74/100\n",
            "4/4 [==============================] - 0s 13ms/step - loss: 0.0537 - accuracy: 0.9833 - val_loss: 0.0335 - val_accuracy: 1.0000\n",
            "Epoch 75/100\n",
            "4/4 [==============================] - 0s 30ms/step - loss: 0.0530 - accuracy: 0.9833 - val_loss: 0.0324 - val_accuracy: 1.0000\n",
            "Epoch 76/100\n",
            "4/4 [==============================] - 0s 19ms/step - loss: 0.0525 - accuracy: 0.9833 - val_loss: 0.0324 - val_accuracy: 1.0000\n",
            "Epoch 77/100\n",
            "4/4 [==============================] - 0s 17ms/step - loss: 0.0527 - accuracy: 0.9833 - val_loss: 0.0316 - val_accuracy: 1.0000\n",
            "Epoch 78/100\n",
            "4/4 [==============================] - 0s 23ms/step - loss: 0.0515 - accuracy: 0.9833 - val_loss: 0.0315 - val_accuracy: 1.0000\n",
            "Epoch 79/100\n",
            "4/4 [==============================] - 0s 23ms/step - loss: 0.0507 - accuracy: 0.9833 - val_loss: 0.0327 - val_accuracy: 1.0000\n",
            "Epoch 80/100\n",
            "4/4 [==============================] - 0s 17ms/step - loss: 0.0518 - accuracy: 0.9833 - val_loss: 0.0330 - val_accuracy: 1.0000\n",
            "Epoch 81/100\n",
            "4/4 [==============================] - 0s 22ms/step - loss: 0.0505 - accuracy: 0.9833 - val_loss: 0.0311 - val_accuracy: 1.0000\n",
            "Epoch 82/100\n",
            "4/4 [==============================] - 0s 26ms/step - loss: 0.0495 - accuracy: 0.9833 - val_loss: 0.0299 - val_accuracy: 1.0000\n",
            "Epoch 83/100\n",
            "4/4 [==============================] - 0s 23ms/step - loss: 0.0509 - accuracy: 0.9833 - val_loss: 0.0292 - val_accuracy: 1.0000\n",
            "Epoch 84/100\n",
            "4/4 [==============================] - 0s 23ms/step - loss: 0.0493 - accuracy: 0.9833 - val_loss: 0.0278 - val_accuracy: 1.0000\n",
            "Epoch 85/100\n",
            "4/4 [==============================] - 0s 16ms/step - loss: 0.0477 - accuracy: 0.9833 - val_loss: 0.0281 - val_accuracy: 1.0000\n",
            "Epoch 86/100\n",
            "4/4 [==============================] - 0s 24ms/step - loss: 0.0477 - accuracy: 0.9833 - val_loss: 0.0277 - val_accuracy: 1.0000\n",
            "Epoch 87/100\n",
            "4/4 [==============================] - 0s 15ms/step - loss: 0.0506 - accuracy: 0.9833 - val_loss: 0.0287 - val_accuracy: 1.0000\n",
            "Epoch 88/100\n",
            "4/4 [==============================] - 0s 21ms/step - loss: 0.0475 - accuracy: 0.9833 - val_loss: 0.0264 - val_accuracy: 1.0000\n",
            "Epoch 89/100\n",
            "4/4 [==============================] - 0s 40ms/step - loss: 0.0468 - accuracy: 0.9833 - val_loss: 0.0254 - val_accuracy: 1.0000\n",
            "Epoch 90/100\n",
            "4/4 [==============================] - 0s 22ms/step - loss: 0.0468 - accuracy: 0.9833 - val_loss: 0.0251 - val_accuracy: 1.0000\n",
            "Epoch 91/100\n",
            "4/4 [==============================] - 0s 17ms/step - loss: 0.0468 - accuracy: 0.9833 - val_loss: 0.0248 - val_accuracy: 1.0000\n",
            "Epoch 92/100\n",
            "4/4 [==============================] - 0s 21ms/step - loss: 0.0475 - accuracy: 0.9750 - val_loss: 0.0247 - val_accuracy: 1.0000\n",
            "Epoch 93/100\n",
            "4/4 [==============================] - 0s 23ms/step - loss: 0.0450 - accuracy: 0.9833 - val_loss: 0.0233 - val_accuracy: 1.0000\n",
            "Epoch 94/100\n",
            "4/4 [==============================] - 0s 15ms/step - loss: 0.0451 - accuracy: 0.9833 - val_loss: 0.0230 - val_accuracy: 1.0000\n",
            "Epoch 95/100\n",
            "4/4 [==============================] - 0s 21ms/step - loss: 0.0449 - accuracy: 0.9833 - val_loss: 0.0229 - val_accuracy: 1.0000\n",
            "Epoch 96/100\n",
            "4/4 [==============================] - 0s 21ms/step - loss: 0.0447 - accuracy: 0.9833 - val_loss: 0.0232 - val_accuracy: 1.0000\n",
            "Epoch 97/100\n",
            "4/4 [==============================] - 0s 21ms/step - loss: 0.0437 - accuracy: 0.9833 - val_loss: 0.0232 - val_accuracy: 1.0000\n",
            "Epoch 98/100\n",
            "4/4 [==============================] - 0s 20ms/step - loss: 0.0435 - accuracy: 0.9833 - val_loss: 0.0238 - val_accuracy: 1.0000\n",
            "Epoch 99/100\n",
            "4/4 [==============================] - 0s 22ms/step - loss: 0.0430 - accuracy: 0.9917 - val_loss: 0.0239 - val_accuracy: 1.0000\n",
            "Epoch 100/100\n",
            "4/4 [==============================] - 0s 25ms/step - loss: 0.0429 - accuracy: 0.9917 - val_loss: 0.0236 - val_accuracy: 1.0000\n"
          ]
        }
      ]
    },
    {
      "cell_type": "code",
      "source": [
        "history.params"
      ],
      "metadata": {
        "colab": {
          "base_uri": "https://localhost:8080/"
        },
        "id": "AgdjAYEwTy2v",
        "outputId": "b603335e-f79a-426c-cf98-1c4ecab41ee5"
      },
      "execution_count": 83,
      "outputs": [
        {
          "output_type": "execute_result",
          "data": {
            "text/plain": [
              "{'verbose': 1, 'epochs': 100, 'steps': 4}"
            ]
          },
          "metadata": {},
          "execution_count": 83
        }
      ]
    },
    {
      "cell_type": "code",
      "source": [
        "X_train.shape"
      ],
      "metadata": {
        "colab": {
          "base_uri": "https://localhost:8080/"
        },
        "id": "NYg-NjIAgwGn",
        "outputId": "b45bc257-25c3-4b23-ad2e-0b506069eee5"
      },
      "execution_count": 84,
      "outputs": [
        {
          "output_type": "execute_result",
          "data": {
            "text/plain": [
              "(120, 4)"
            ]
          },
          "metadata": {},
          "execution_count": 84
        }
      ]
    },
    {
      "cell_type": "code",
      "execution_count": 85,
      "metadata": {
        "colab": {
          "base_uri": "https://localhost:8080/"
        },
        "id": "i66GuEqISf5N",
        "outputId": "3dd138fe-0d12-4d9d-dbce-ab004d089dd2"
      },
      "outputs": [
        {
          "output_type": "stream",
          "name": "stdout",
          "text": [
            "1/1 [==============================] - 0s 26ms/step - loss: 0.0236 - accuracy: 1.0000\n",
            "Test Loss: 0.02358136512339115\n",
            "Test Accuracy: 1.0\n"
          ]
        }
      ],
      "source": [
        "# Evaluate the model on the test set\n",
        "loss, accuracy = model.evaluate(X_test, y_test)\n",
        "print(\"Test Loss:\", loss)\n",
        "print(\"Test Accuracy:\", accuracy)\n"
      ]
    },
    {
      "cell_type": "code",
      "source": [
        "model.summary()"
      ],
      "metadata": {
        "colab": {
          "base_uri": "https://localhost:8080/"
        },
        "id": "t_SQf5IrUfn6",
        "outputId": "e2609ee9-e60b-4cc0-f8ee-a8e9871e2a78"
      },
      "execution_count": 86,
      "outputs": [
        {
          "output_type": "stream",
          "name": "stdout",
          "text": [
            "Model: \"sequential_3\"\n",
            "_________________________________________________________________\n",
            " Layer (type)                Output Shape              Param #   \n",
            "=================================================================\n",
            " dense_9 (Dense)             (None, 100)               500       \n",
            "                                                                 \n",
            " dense_10 (Dense)            (None, 50)                5050      \n",
            "                                                                 \n",
            " dense_11 (Dense)            (None, 3)                 153       \n",
            "                                                                 \n",
            "=================================================================\n",
            "Total params: 5703 (22.28 KB)\n",
            "Trainable params: 5703 (22.28 KB)\n",
            "Non-trainable params: 0 (0.00 Byte)\n",
            "_________________________________________________________________\n"
          ]
        }
      ]
    },
    {
      "cell_type": "code",
      "source": [
        "# Plot accuracy and loss versus epoch\n",
        "import matplotlib.pyplot as plt\n",
        "plt.plot(history.history['accuracy'], label='Train Accuracy')\n",
        "plt.plot(history.history['val_accuracy'], label='Validation Accuracy')\n",
        "plt.xlabel('Epoch')\n",
        "plt.ylabel('Accuracy')\n",
        "plt.legend()\n",
        "plt.show()"
      ],
      "metadata": {
        "id": "fzLBIKH6o3xJ",
        "colab": {
          "base_uri": "https://localhost:8080/",
          "height": 449
        },
        "outputId": "208eb2cc-622d-4680-945b-a91d3b881f9b"
      },
      "execution_count": 87,
      "outputs": [
        {
          "output_type": "display_data",
          "data": {
            "text/plain": [
              "<Figure size 640x480 with 1 Axes>"
            ],
            "image/png": "[encoded data removed]"
          },
          "metadata": {}
        }
      ]
    },
    {
      "cell_type": "code",
      "source": [
        "plt.plot(history.history['loss'], label='Train Loss')\n",
        "plt.plot(history.history['val_loss'], label='Validation Loss')\n",
        "plt.xlabel('Epoch')\n",
        "plt.ylabel('Loss')\n",
        "plt.legend()\n",
        "plt.show()"
      ],
      "metadata": {
        "id": "oBHbxuPao4rf",
        "colab": {
          "base_uri": "https://localhost:8080/",
          "height": 449
        },
        "outputId": "ff3a12ed-a1e6-41e4-b595-7239bf6ffa0e"
      },
      "execution_count": 88,
      "outputs": [
        {
          "output_type": "display_data",
          "data": {
            "text/plain": [
              "<Figure size 640x480 with 1 Axes>"
            ],
            "image/png": "[encoded data removed]"
          },
          "metadata": {}
        }
      ]
    },
    {
      "cell_type": "markdown",
      "source": [
        "Training loss and testing loss are almost same. So this is a good fitting model."
      ],
      "metadata": {
        "id": "GTzVvxWaJh12"
      }
    },
    {
      "cell_type": "code",
      "source": [
        "#same model done using keras from tensorflow\n",
        "#good practice\n",
        "from sklearn.datasets import load_iris\n",
        "from sklearn.model_selection import train_test_split\n",
        "from sklearn.preprocessing import StandardScaler\n",
        "import numpy as np\n",
        "import tensorflow as tf\n",
        "from tensorflow.keras.models import Sequential\n",
        "from tensorflow.keras.layers import Dense\n",
        "from tensorflow.keras.optimizers import Adam\n",
        "\n",
        "# Load the Iris dataset\n",
        "iris = load_iris()\n",
        "X, y = iris.data, iris.target\n",
        "\n",
        "# Split the dataset into training and testing sets\n",
        "X_train, X_test, y_train, y_test = train_test_split(X, y, test_size=0.2, random_state=42)\n",
        "\n",
        "# Standardize the features\n",
        "scaler = StandardScaler()\n",
        "X_train = scaler.fit_transform(X_train)\n",
        "X_test = scaler.transform(X_test)\n",
        "\n",
        "# Convert labels to one-hot encoded format\n",
        "y_train_one_hot = tf.keras.utils.to_categorical(y_train, num_classes=3)\n",
        "y_test_one_hot = tf.keras.utils.to_categorical(y_test, num_classes=3)\n",
        "\n",
        "# Define and compile your model\n",
        "model = Sequential()\n",
        "model.add(Dense(100, activation='relu', input_dim=4))\n",
        "model.add(Dense(50, activation='relu'))\n",
        "model.add(Dense(3, activation='softmax'))\n",
        "model.compile(optimizer=Adam(learning_rate=0.001), loss='categorical_crossentropy', metrics=['accuracy'])\n",
        "\n",
        "# Train your model\n",
        "history = model.fit(X_train, y_train_one_hot, epochs=100, batch_size=32, verbose=1, validation_data=(X_test, y_test_one_hot))"
      ],
      "metadata": {
        "colab": {
          "base_uri": "https://localhost:8080/"
        },
        "id": "zEdqrzZeqG0p",
        "outputId": "7ba05e1c-90b7-4d79-abab-039efc6c5130"
      },
      "execution_count": null,
      "outputs": [
        {
          "output_type": "stream",
          "name": "stdout",
          "text": [
            "Epoch 1/100\n",
            "4/4 [==============================] - 1s 67ms/step - loss: 1.1907 - accuracy: 0.3167 - val_loss: 1.0701 - val_accuracy: 0.4000\n",
            "Epoch 2/100\n",
            "4/4 [==============================] - 0s 18ms/step - loss: 1.0318 - accuracy: 0.5333 - val_loss: 0.9345 - val_accuracy: 0.8333\n",
            "Epoch 3/100\n",
            "4/4 [==============================] - 0s 12ms/step - loss: 0.9068 - accuracy: 0.8083 - val_loss: 0.8234 - val_accuracy: 0.8333\n",
            "Epoch 4/100\n",
            "4/4 [==============================] - 0s 12ms/step - loss: 0.8023 - accuracy: 0.8167 - val_loss: 0.7299 - val_accuracy: 0.8333\n",
            "Epoch 5/100\n",
            "4/4 [==============================] - 0s 14ms/step - loss: 0.7130 - accuracy: 0.8167 - val_loss: 0.6484 - val_accuracy: 0.8333\n",
            "Epoch 6/100\n",
            "4/4 [==============================] - 0s 13ms/step - loss: 0.6421 - accuracy: 0.8167 - val_loss: 0.5773 - val_accuracy: 0.8667\n",
            "Epoch 7/100\n",
            "4/4 [==============================] - 0s 12ms/step - loss: 0.5806 - accuracy: 0.8167 - val_loss: 0.5172 - val_accuracy: 0.9000\n",
            "Epoch 8/100\n",
            "4/4 [==============================] - 0s 12ms/step - loss: 0.5284 - accuracy: 0.8250 - val_loss: 0.4665 - val_accuracy: 0.9000\n",
            "Epoch 9/100\n",
            "4/4 [==============================] - 0s 20ms/step - loss: 0.4851 - accuracy: 0.8250 - val_loss: 0.4245 - val_accuracy: 0.9000\n",
            "Epoch 10/100\n",
            "4/4 [==============================] - 0s 12ms/step - loss: 0.4503 - accuracy: 0.8250 - val_loss: 0.3893 - val_accuracy: 0.9000\n",
            "Epoch 11/100\n",
            "4/4 [==============================] - 0s 12ms/step - loss: 0.4206 - accuracy: 0.8250 - val_loss: 0.3591 - val_accuracy: 0.9000\n",
            "Epoch 12/100\n",
            "4/4 [==============================] - 0s 13ms/step - loss: 0.3944 - accuracy: 0.8250 - val_loss: 0.3338 - val_accuracy: 0.9000\n",
            "Epoch 13/100\n",
            "4/4 [==============================] - 0s 12ms/step - loss: 0.3731 - accuracy: 0.8250 - val_loss: 0.3115 - val_accuracy: 0.9000\n",
            "Epoch 14/100\n",
            "4/4 [==============================] - 0s 16ms/step - loss: 0.3547 - accuracy: 0.8250 - val_loss: 0.2914 - val_accuracy: 0.9000\n",
            "Epoch 15/100\n",
            "4/4 [==============================] - 0s 17ms/step - loss: 0.3391 - accuracy: 0.8417 - val_loss: 0.2726 - val_accuracy: 0.9000\n",
            "Epoch 16/100\n",
            "4/4 [==============================] - 0s 13ms/step - loss: 0.3227 - accuracy: 0.8583 - val_loss: 0.2574 - val_accuracy: 0.9000\n",
            "Epoch 17/100\n",
            "4/4 [==============================] - 0s 12ms/step - loss: 0.3090 - accuracy: 0.8583 - val_loss: 0.2447 - val_accuracy: 0.9000\n",
            "Epoch 18/100\n",
            "4/4 [==============================] - 0s 19ms/step - loss: 0.2962 - accuracy: 0.8833 - val_loss: 0.2328 - val_accuracy: 0.9333\n",
            "Epoch 19/100\n",
            "4/4 [==============================] - 0s 13ms/step - loss: 0.2830 - accuracy: 0.8833 - val_loss: 0.2210 - val_accuracy: 0.9333\n",
            "Epoch 20/100\n",
            "4/4 [==============================] - 0s 12ms/step - loss: 0.2719 - accuracy: 0.8833 - val_loss: 0.2101 - val_accuracy: 0.9333\n",
            "Epoch 21/100\n",
            "4/4 [==============================] - 0s 13ms/step - loss: 0.2616 - accuracy: 0.8917 - val_loss: 0.2004 - val_accuracy: 0.9333\n",
            "Epoch 22/100\n",
            "4/4 [==============================] - 0s 18ms/step - loss: 0.2508 - accuracy: 0.9000 - val_loss: 0.1898 - val_accuracy: 0.9333\n",
            "Epoch 23/100\n",
            "4/4 [==============================] - 0s 13ms/step - loss: 0.2413 - accuracy: 0.9167 - val_loss: 0.1822 - val_accuracy: 0.9333\n",
            "Epoch 24/100\n",
            "4/4 [==============================] - 0s 13ms/step - loss: 0.2319 - accuracy: 0.9417 - val_loss: 0.1737 - val_accuracy: 0.9333\n",
            "Epoch 25/100\n",
            "4/4 [==============================] - 0s 18ms/step - loss: 0.2234 - accuracy: 0.9417 - val_loss: 0.1675 - val_accuracy: 0.9333\n",
            "Epoch 26/100\n",
            "4/4 [==============================] - 0s 24ms/step - loss: 0.2134 - accuracy: 0.9500 - val_loss: 0.1600 - val_accuracy: 0.9667\n",
            "Epoch 27/100\n",
            "4/4 [==============================] - 0s 27ms/step - loss: 0.2048 - accuracy: 0.9583 - val_loss: 0.1531 - val_accuracy: 0.9667\n",
            "Epoch 28/100\n",
            "4/4 [==============================] - 0s 22ms/step - loss: 0.1973 - accuracy: 0.9583 - val_loss: 0.1473 - val_accuracy: 0.9667\n",
            "Epoch 29/100\n",
            "4/4 [==============================] - 0s 24ms/step - loss: 0.1888 - accuracy: 0.9583 - val_loss: 0.1400 - val_accuracy: 0.9667\n",
            "Epoch 30/100\n",
            "4/4 [==============================] - 0s 22ms/step - loss: 0.1811 - accuracy: 0.9583 - val_loss: 0.1346 - val_accuracy: 0.9667\n",
            "Epoch 31/100\n",
            "4/4 [==============================] - 0s 17ms/step - loss: 0.1737 - accuracy: 0.9583 - val_loss: 0.1289 - val_accuracy: 1.0000\n",
            "Epoch 32/100\n",
            "4/4 [==============================] - 0s 17ms/step - loss: 0.1661 - accuracy: 0.9583 - val_loss: 0.1239 - val_accuracy: 1.0000\n",
            "Epoch 33/100\n",
            "4/4 [==============================] - 0s 19ms/step - loss: 0.1583 - accuracy: 0.9583 - val_loss: 0.1188 - val_accuracy: 1.0000\n",
            "Epoch 34/100\n",
            "4/4 [==============================] - 0s 17ms/step - loss: 0.1516 - accuracy: 0.9583 - val_loss: 0.1148 - val_accuracy: 1.0000\n",
            "Epoch 35/100\n",
            "4/4 [==============================] - 0s 21ms/step - loss: 0.1462 - accuracy: 0.9667 - val_loss: 0.1116 - val_accuracy: 1.0000\n",
            "Epoch 36/100\n",
            "4/4 [==============================] - 0s 24ms/step - loss: 0.1403 - accuracy: 0.9667 - val_loss: 0.1075 - val_accuracy: 1.0000\n",
            "Epoch 37/100\n",
            "4/4 [==============================] - 0s 17ms/step - loss: 0.1350 - accuracy: 0.9667 - val_loss: 0.1029 - val_accuracy: 1.0000\n",
            "Epoch 38/100\n",
            "4/4 [==============================] - 0s 23ms/step - loss: 0.1290 - accuracy: 0.9667 - val_loss: 0.0978 - val_accuracy: 1.0000\n",
            "Epoch 39/100\n",
            "4/4 [==============================] - 0s 24ms/step - loss: 0.1261 - accuracy: 0.9667 - val_loss: 0.0934 - val_accuracy: 1.0000\n",
            "Epoch 40/100\n",
            "4/4 [==============================] - 0s 23ms/step - loss: 0.1223 - accuracy: 0.9667 - val_loss: 0.0906 - val_accuracy: 1.0000\n",
            "Epoch 41/100\n",
            "4/4 [==============================] - 0s 24ms/step - loss: 0.1161 - accuracy: 0.9667 - val_loss: 0.0868 - val_accuracy: 1.0000\n",
            "Epoch 42/100\n",
            "4/4 [==============================] - 0s 23ms/step - loss: 0.1114 - accuracy: 0.9667 - val_loss: 0.0830 - val_accuracy: 1.0000\n",
            "Epoch 43/100\n",
            "4/4 [==============================] - 0s 24ms/step - loss: 0.1079 - accuracy: 0.9667 - val_loss: 0.0804 - val_accuracy: 1.0000\n",
            "Epoch 44/100\n",
            "4/4 [==============================] - 0s 23ms/step - loss: 0.1053 - accuracy: 0.9583 - val_loss: 0.0778 - val_accuracy: 1.0000\n",
            "Epoch 45/100\n",
            "4/4 [==============================] - 0s 19ms/step - loss: 0.1016 - accuracy: 0.9667 - val_loss: 0.0752 - val_accuracy: 1.0000\n",
            "Epoch 46/100\n",
            "4/4 [==============================] - 0s 19ms/step - loss: 0.0978 - accuracy: 0.9750 - val_loss: 0.0730 - val_accuracy: 1.0000\n",
            "Epoch 47/100\n",
            "4/4 [==============================] - 0s 23ms/step - loss: 0.0949 - accuracy: 0.9750 - val_loss: 0.0708 - val_accuracy: 1.0000\n",
            "Epoch 48/100\n",
            "4/4 [==============================] - 0s 18ms/step - loss: 0.0922 - accuracy: 0.9750 - val_loss: 0.0691 - val_accuracy: 1.0000\n",
            "Epoch 49/100\n",
            "4/4 [==============================] - 0s 23ms/step - loss: 0.0897 - accuracy: 0.9750 - val_loss: 0.0670 - val_accuracy: 1.0000\n",
            "Epoch 50/100\n",
            "4/4 [==============================] - 0s 27ms/step - loss: 0.0883 - accuracy: 0.9750 - val_loss: 0.0672 - val_accuracy: 1.0000\n",
            "Epoch 51/100\n",
            "4/4 [==============================] - 0s 24ms/step - loss: 0.0849 - accuracy: 0.9750 - val_loss: 0.0646 - val_accuracy: 1.0000\n",
            "Epoch 52/100\n",
            "4/4 [==============================] - 0s 19ms/step - loss: 0.0840 - accuracy: 0.9750 - val_loss: 0.0638 - val_accuracy: 1.0000\n",
            "Epoch 53/100\n",
            "4/4 [==============================] - 0s 27ms/step - loss: 0.0820 - accuracy: 0.9750 - val_loss: 0.0601 - val_accuracy: 1.0000\n",
            "Epoch 54/100\n",
            "4/4 [==============================] - 0s 28ms/step - loss: 0.0792 - accuracy: 0.9667 - val_loss: 0.0587 - val_accuracy: 1.0000\n",
            "Epoch 55/100\n",
            "4/4 [==============================] - 0s 26ms/step - loss: 0.0775 - accuracy: 0.9833 - val_loss: 0.0576 - val_accuracy: 1.0000\n",
            "Epoch 56/100\n",
            "4/4 [==============================] - 0s 25ms/step - loss: 0.0752 - accuracy: 0.9833 - val_loss: 0.0573 - val_accuracy: 1.0000\n",
            "Epoch 57/100\n",
            "4/4 [==============================] - 0s 15ms/step - loss: 0.0744 - accuracy: 0.9833 - val_loss: 0.0557 - val_accuracy: 1.0000\n",
            "Epoch 58/100\n",
            "4/4 [==============================] - 0s 12ms/step - loss: 0.0725 - accuracy: 0.9833 - val_loss: 0.0552 - val_accuracy: 1.0000\n",
            "Epoch 59/100\n",
            "4/4 [==============================] - 0s 12ms/step - loss: 0.0705 - accuracy: 0.9833 - val_loss: 0.0538 - val_accuracy: 1.0000\n",
            "Epoch 60/100\n",
            "4/4 [==============================] - 0s 19ms/step - loss: 0.0703 - accuracy: 0.9750 - val_loss: 0.0528 - val_accuracy: 1.0000\n",
            "Epoch 61/100\n",
            "4/4 [==============================] - 0s 13ms/step - loss: 0.0677 - accuracy: 0.9833 - val_loss: 0.0516 - val_accuracy: 1.0000\n",
            "Epoch 62/100\n",
            "4/4 [==============================] - 0s 13ms/step - loss: 0.0672 - accuracy: 0.9833 - val_loss: 0.0516 - val_accuracy: 1.0000\n",
            "Epoch 63/100\n",
            "4/4 [==============================] - 0s 14ms/step - loss: 0.0657 - accuracy: 0.9917 - val_loss: 0.0498 - val_accuracy: 1.0000\n",
            "Epoch 64/100\n",
            "4/4 [==============================] - 0s 13ms/step - loss: 0.0658 - accuracy: 0.9833 - val_loss: 0.0478 - val_accuracy: 1.0000\n",
            "Epoch 65/100\n",
            "4/4 [==============================] - 0s 12ms/step - loss: 0.0638 - accuracy: 0.9833 - val_loss: 0.0452 - val_accuracy: 1.0000\n",
            "Epoch 66/100\n",
            "4/4 [==============================] - 0s 18ms/step - loss: 0.0626 - accuracy: 0.9833 - val_loss: 0.0430 - val_accuracy: 1.0000\n",
            "Epoch 67/100\n",
            "4/4 [==============================] - 0s 12ms/step - loss: 0.0625 - accuracy: 0.9833 - val_loss: 0.0425 - val_accuracy: 1.0000\n",
            "Epoch 68/100\n",
            "4/4 [==============================] - 0s 13ms/step - loss: 0.0615 - accuracy: 0.9833 - val_loss: 0.0422 - val_accuracy: 1.0000\n",
            "Epoch 69/100\n",
            "4/4 [==============================] - 0s 13ms/step - loss: 0.0611 - accuracy: 0.9750 - val_loss: 0.0405 - val_accuracy: 1.0000\n",
            "Epoch 70/100\n",
            "4/4 [==============================] - 0s 13ms/step - loss: 0.0599 - accuracy: 0.9833 - val_loss: 0.0411 - val_accuracy: 1.0000\n",
            "Epoch 71/100\n",
            "4/4 [==============================] - 0s 19ms/step - loss: 0.0582 - accuracy: 0.9833 - val_loss: 0.0404 - val_accuracy: 1.0000\n",
            "Epoch 72/100\n",
            "4/4 [==============================] - 0s 12ms/step - loss: 0.0576 - accuracy: 0.9833 - val_loss: 0.0392 - val_accuracy: 1.0000\n",
            "Epoch 73/100\n",
            "4/4 [==============================] - 0s 13ms/step - loss: 0.0575 - accuracy: 0.9833 - val_loss: 0.0394 - val_accuracy: 1.0000\n",
            "Epoch 74/100\n",
            "4/4 [==============================] - 0s 13ms/step - loss: 0.0563 - accuracy: 0.9833 - val_loss: 0.0399 - val_accuracy: 1.0000\n",
            "Epoch 75/100\n",
            "4/4 [==============================] - 0s 21ms/step - loss: 0.0559 - accuracy: 0.9917 - val_loss: 0.0390 - val_accuracy: 1.0000\n",
            "Epoch 76/100\n",
            "4/4 [==============================] - 0s 12ms/step - loss: 0.0551 - accuracy: 0.9917 - val_loss: 0.0368 - val_accuracy: 1.0000\n",
            "Epoch 77/100\n",
            "4/4 [==============================] - 0s 18ms/step - loss: 0.0545 - accuracy: 0.9833 - val_loss: 0.0360 - val_accuracy: 1.0000\n",
            "Epoch 78/100\n",
            "4/4 [==============================] - 0s 13ms/step - loss: 0.0537 - accuracy: 0.9833 - val_loss: 0.0342 - val_accuracy: 1.0000\n",
            "Epoch 79/100\n",
            "4/4 [==============================] - 0s 13ms/step - loss: 0.0533 - accuracy: 0.9833 - val_loss: 0.0344 - val_accuracy: 1.0000\n",
            "Epoch 80/100\n",
            "4/4 [==============================] - 0s 13ms/step - loss: 0.0528 - accuracy: 0.9833 - val_loss: 0.0339 - val_accuracy: 1.0000\n",
            "Epoch 81/100\n",
            "4/4 [==============================] - 0s 18ms/step - loss: 0.0520 - accuracy: 0.9833 - val_loss: 0.0329 - val_accuracy: 1.0000\n",
            "Epoch 82/100\n",
            "4/4 [==============================] - 0s 20ms/step - loss: 0.0526 - accuracy: 0.9833 - val_loss: 0.0307 - val_accuracy: 1.0000\n",
            "Epoch 83/100\n",
            "4/4 [==============================] - 0s 12ms/step - loss: 0.0513 - accuracy: 0.9917 - val_loss: 0.0308 - val_accuracy: 1.0000\n",
            "Epoch 84/100\n",
            "4/4 [==============================] - 0s 12ms/step - loss: 0.0513 - accuracy: 0.9833 - val_loss: 0.0317 - val_accuracy: 1.0000\n",
            "Epoch 85/100\n",
            "4/4 [==============================] - 0s 13ms/step - loss: 0.0506 - accuracy: 0.9833 - val_loss: 0.0302 - val_accuracy: 1.0000\n",
            "Epoch 86/100\n",
            "4/4 [==============================] - 0s 12ms/step - loss: 0.0500 - accuracy: 0.9833 - val_loss: 0.0296 - val_accuracy: 1.0000\n",
            "Epoch 87/100\n",
            "4/4 [==============================] - 0s 13ms/step - loss: 0.0496 - accuracy: 0.9833 - val_loss: 0.0277 - val_accuracy: 1.0000\n",
            "Epoch 88/100\n",
            "4/4 [==============================] - 0s 12ms/step - loss: 0.0488 - accuracy: 0.9917 - val_loss: 0.0270 - val_accuracy: 1.0000\n",
            "Epoch 89/100\n",
            "4/4 [==============================] - 0s 19ms/step - loss: 0.0489 - accuracy: 0.9917 - val_loss: 0.0269 - val_accuracy: 1.0000\n",
            "Epoch 90/100\n",
            "4/4 [==============================] - 0s 18ms/step - loss: 0.0488 - accuracy: 0.9833 - val_loss: 0.0277 - val_accuracy: 1.0000\n",
            "Epoch 91/100\n",
            "4/4 [==============================] - 0s 13ms/step - loss: 0.0506 - accuracy: 0.9833 - val_loss: 0.0264 - val_accuracy: 1.0000\n",
            "Epoch 92/100\n",
            "4/4 [==============================] - 0s 13ms/step - loss: 0.0473 - accuracy: 0.9917 - val_loss: 0.0259 - val_accuracy: 1.0000\n",
            "Epoch 93/100\n",
            "4/4 [==============================] - 0s 12ms/step - loss: 0.0476 - accuracy: 0.9833 - val_loss: 0.0263 - val_accuracy: 1.0000\n",
            "Epoch 94/100\n",
            "4/4 [==============================] - 0s 12ms/step - loss: 0.0469 - accuracy: 0.9833 - val_loss: 0.0252 - val_accuracy: 1.0000\n",
            "Epoch 95/100\n",
            "4/4 [==============================] - 0s 12ms/step - loss: 0.0465 - accuracy: 0.9833 - val_loss: 0.0241 - val_accuracy: 1.0000\n",
            "Epoch 96/100\n",
            "4/4 [==============================] - 0s 13ms/step - loss: 0.0461 - accuracy: 0.9833 - val_loss: 0.0231 - val_accuracy: 1.0000\n",
            "Epoch 97/100\n",
            "4/4 [==============================] - 0s 13ms/step - loss: 0.0463 - accuracy: 0.9833 - val_loss: 0.0223 - val_accuracy: 1.0000\n",
            "Epoch 98/100\n",
            "4/4 [==============================] - 0s 13ms/step - loss: 0.0453 - accuracy: 0.9917 - val_loss: 0.0218 - val_accuracy: 1.0000\n",
            "Epoch 99/100\n",
            "4/4 [==============================] - 0s 18ms/step - loss: 0.0453 - accuracy: 0.9917 - val_loss: 0.0219 - val_accuracy: 1.0000\n",
            "Epoch 100/100\n",
            "4/4 [==============================] - 0s 18ms/step - loss: 0.0448 - accuracy: 0.9833 - val_loss: 0.0214 - val_accuracy: 1.0000\n"
          ]
        }
      ]
    },
    {
      "cell_type": "code",
      "source": [],
      "metadata": {
        "id": "PPZsjXHRqHOa"
      },
      "execution_count": null,
      "outputs": []
    }
  ]
}