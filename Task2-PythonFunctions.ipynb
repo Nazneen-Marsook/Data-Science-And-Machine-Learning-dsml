{
  "cells": [
    {
      "cell_type": "markdown",
      "metadata": {
        "id": "RdeF1NR9Pl_P"
      },
      "source": [
        "# Exercise 1: Create a function with a default argument\n",
        "Write a program to create a function ```show_employee()``` using the following conditions.\n",
        "\n",
        "\n",
        "\n",
        "*   It should accept the employee’s name and salary and display both.\n",
        "*   If the salary is missing in the function call then assign default value 9000 to salary\n",
        "\n",
        "\n",
        "### Given:\n",
        "```showEmployee(\"Ben\", 12000)```\n",
        "\n",
        "```showEmployee(\"Jessa\")```\n",
        "\n",
        "### Expected output:\n",
        "Name: Ben salary: 12000\n",
        "\n",
        "Name: Jessa salary: 9000\n"
      ]
    },
    {
      "cell_type": "code",
      "execution_count": null,
      "metadata": {
        "colab": {
          "base_uri": "https://localhost:8080/"
        },
        "id": "9Su8x3sxQYjI",
        "outputId": "9decce23-b79b-435e-93a0-91f449d113b7"
      },
      "outputs": [
        {
          "name": "stdout",
          "output_type": "stream",
          "text": [
            "Name:Ben, Salary:12000\n",
            "Name:Jessa, Salary:9000\n"
          ]
        }
      ],
      "source": [
        "def show_employee(name,salary=9000):\n",
        "  print(f'Name:{name}, Salary:{salary}')\n",
        "\n",
        "\n",
        "show_employee(\"Ben\",12000)\n",
        "show_employee(\"Jessa\")"
      ]
    },
    {
      "cell_type": "markdown",
      "metadata": {
        "id": "FEQCX1KTh1Vn"
      },
      "source": [
        "# Exercise 2: Create an inner function to calculate the addition in the following way\n",
        "\n",
        "\n",
        "*   Create an outer function that will accept two parameters, a and b\n",
        "*   Create an inner function inside an outer function that will calculate the addition of a and b\n",
        "*  At last, an outer function will add 5 into addition and return it\n",
        "\n",
        "\n",
        "\n",
        "\n",
        "\n",
        "\n"
      ]
    },
    {
      "cell_type": "code",
      "execution_count": null,
      "metadata": {
        "colab": {
          "base_uri": "https://localhost:8080/"
        },
        "id": "U27pcbFJh080",
        "outputId": "25afd694-e8ae-4b97-a77d-4392a9a70bee"
      },
      "outputs": [
        {
          "name": "stdout",
          "output_type": "stream",
          "text": [
            "Enter the  first number to be added : 2\n",
            "Enter the  second number to be added : 4\n",
            "The final result is :  11\n"
          ]
        }
      ],
      "source": [
        "def out_fn(a,b):\n",
        "\n",
        "  def addition(a,b):\n",
        "    return a+b\n",
        "\n",
        "  add=addition(a,b)\n",
        "  return 5+add\n",
        "\n",
        "a=int(input('Enter the  first number to be added : '))\n",
        "b=int(input('Enter the  second number to be added : '))\n",
        "\n",
        "print(\"The final result is : \",out_fn(a,b))"
      ]
    },
    {
      "cell_type": "markdown",
      "metadata": {
        "id": "Vo5x2koHmi_e"
      },
      "source": [
        "# Exercise 3: Generate a Python list of all the even numbers between 4 to 30\n"
      ]
    },
    {
      "cell_type": "code",
      "execution_count": null,
      "metadata": {
        "colab": {
          "base_uri": "https://localhost:8080/"
        },
        "id": "tGzbqWlqmivJ",
        "outputId": "825cbc90-46aa-4318-9e4c-f6e65dbe14c8"
      },
      "outputs": [
        {
          "name": "stdout",
          "output_type": "stream",
          "text": [
            "The list of all the even numbers between 4 and 30 is  [4, 6, 8, 10, 12, 14, 16, 18, 20, 22, 24, 26, 28, 30]\n"
          ]
        }
      ],
      "source": [
        "even_list=[]\n",
        "even_list=[x for x in range(4,31) if x%2==0]\n",
        "print('The list of all the even numbers between 4 and 30 is ',even_list)"
      ]
    },
    {
      "cell_type": "code",
      "execution_count": null,
      "metadata": {
        "colab": {
          "base_uri": "https://localhost:8080/"
        },
        "id": "_lw8sZF1nZ1e",
        "outputId": "9dc366ac-c81c-4ed1-cd1a-ef4e2718da35"
      },
      "outputs": [
        {
          "name": "stdout",
          "output_type": "stream",
          "text": [
            "The list of all even numbers is : [4, 6, 8, 10, 12, 14, 16, 18, 20, 22, 24, 26, 28, 30]\n"
          ]
        }
      ],
      "source": [
        "my_list=list(range(4,31))\n",
        "\n",
        "f=filter(lambda x:x%2==0,my_list)\n",
        "print('The list of all even numbers is :',list(f))"
      ]
    },
    {
      "cell_type": "code",
      "execution_count": null,
      "metadata": {
        "colab": {
          "base_uri": "https://localhost:8080/"
        },
        "id": "Aurd5ue8tYrI",
        "outputId": "27d7b152-7c36-4035-aeda-9c1f942d7fe4"
      },
      "outputs": [
        {
          "name": "stdout",
          "output_type": "stream",
          "text": [
            "[4, 6, 8, 10, 12, 14, 16, 18, 20, 22, 24, 26, 28, 30]\n"
          ]
        }
      ],
      "source": [
        "print(list(range(4,31,2)))"
      ]
    },
    {
      "cell_type": "markdown",
      "metadata": {
        "id": "ni-m7jJApexL"
      },
      "source": [
        "# Exercise 4: Lambda Function to Check if value is in a List\n",
        "Given a list, the task is to write a Python program to check if the value exists in the list or not using the lambda function.\n",
        "\n",
        "\n",
        "Input  : L = [1, 2, 3, 4, 5],\n",
        "          element = 4\n",
        "\n",
        "Output :  Element is Present in the list\n",
        "\n",
        "\n",
        "\n",
        "Input :  L = [1, 2, 3, 4, 5],\n",
        "          element = 8\n",
        "          \n",
        "Output :  Element is NOT Present in the list\n"
      ]
    },
    {
      "cell_type": "code",
      "execution_count": null,
      "metadata": {
        "colab": {
          "base_uri": "https://localhost:8080/"
        },
        "id": "IUptn1wZVQma",
        "outputId": "ca664bab-9a94-452f-b5ec-891a2a68f948"
      },
      "outputs": [
        {
          "name": "stdout",
          "output_type": "stream",
          "text": [
            "Enter the value to be checked : 8\n",
            "Element is not in the list\n"
          ]
        }
      ],
      "source": [
        "#using lambda function\n",
        "L=[1,2,3,4,5,6]\n",
        "my_result=lambda x:\"Element is present in the list\" if x in L else \"Element is not in the list\"\n",
        "val=int(input(\"Enter the value to be checked : \"))\n",
        "print(my_result(val))"
      ]
    },
    {
      "cell_type": "markdown",
      "metadata": {
        "id": "Z93GwGkCFViH"
      },
      "source": [
        "# Exercise 5: Sort list of tuples with their sum\n",
        "Sort the points based on their sum of elements in the tuples\n",
        "\n",
        "points = [(1, 2), (5, 3), (0, 7), (3, 1)]\n"
      ]
    },
    {
      "cell_type": "code",
      "execution_count": null,
      "metadata": {
        "colab": {
          "base_uri": "https://localhost:8080/"
        },
        "id": "mF_sZCHsFUcE",
        "outputId": "d44f5bf7-8e4e-424f-e471-8f967b6f7424"
      },
      "outputs": [
        {
          "name": "stdout",
          "output_type": "stream",
          "text": [
            "[(1, 2), (3, 1), (0, 7), (5, 3)]\n"
          ]
        }
      ],
      "source": [
        "l=[(1, 2), (5, 3), (0, 7), (3, 1)]\n",
        "l.sort(key=lambda x:x[0]+x[1])\n",
        "print(l)"
      ]
    },
    {
      "cell_type": "markdown",
      "metadata": {
        "id": "5FhhXQbsRh6c"
      },
      "source": [
        "## Exercise 6 :\n",
        "Write a python function, which will find all such numbers between 1000 and 3000 (both included) such that each digit of the number is an even number. Return the results as a list\n"
      ]
    },
    {
      "cell_type": "code",
      "execution_count": null,
      "metadata": {
        "colab": {
          "base_uri": "https://localhost:8080/"
        },
        "id": "W91p7jQHRkb8",
        "outputId": "933f7251-bbb0-451c-ca9b-2b065b74ff4c"
      },
      "outputs": [
        {
          "data": {
            "text/plain": [
              "[2000,\n",
              " 2002,\n",
              " 2004,\n",
              " 2006,\n",
              " 2008,\n",
              " 2020,\n",
              " 2022,\n",
              " 2024,\n",
              " 2026,\n",
              " 2028,\n",
              " 2040,\n",
              " 2042,\n",
              " 2044,\n",
              " 2046,\n",
              " 2048,\n",
              " 2060,\n",
              " 2062,\n",
              " 2064,\n",
              " 2066,\n",
              " 2068,\n",
              " 2080,\n",
              " 2082,\n",
              " 2084,\n",
              " 2086,\n",
              " 2088,\n",
              " 2200,\n",
              " 2202,\n",
              " 2204,\n",
              " 2206,\n",
              " 2208,\n",
              " 2220,\n",
              " 2222,\n",
              " 2224,\n",
              " 2226,\n",
              " 2228,\n",
              " 2240,\n",
              " 2242,\n",
              " 2244,\n",
              " 2246,\n",
              " 2248,\n",
              " 2260,\n",
              " 2262,\n",
              " 2264,\n",
              " 2266,\n",
              " 2268,\n",
              " 2280,\n",
              " 2282,\n",
              " 2284,\n",
              " 2286,\n",
              " 2288,\n",
              " 2400,\n",
              " 2402,\n",
              " 2404,\n",
              " 2406,\n",
              " 2408,\n",
              " 2420,\n",
              " 2422,\n",
              " 2424,\n",
              " 2426,\n",
              " 2428,\n",
              " 2440,\n",
              " 2442,\n",
              " 2444,\n",
              " 2446,\n",
              " 2448,\n",
              " 2460,\n",
              " 2462,\n",
              " 2464,\n",
              " 2466,\n",
              " 2468,\n",
              " 2480,\n",
              " 2482,\n",
              " 2484,\n",
              " 2486,\n",
              " 2488,\n",
              " 2600,\n",
              " 2602,\n",
              " 2604,\n",
              " 2606,\n",
              " 2608,\n",
              " 2620,\n",
              " 2622,\n",
              " 2624,\n",
              " 2626,\n",
              " 2628,\n",
              " 2640,\n",
              " 2642,\n",
              " 2644,\n",
              " 2646,\n",
              " 2648,\n",
              " 2660,\n",
              " 2662,\n",
              " 2664,\n",
              " 2666,\n",
              " 2668,\n",
              " 2680,\n",
              " 2682,\n",
              " 2684,\n",
              " 2686,\n",
              " 2688,\n",
              " 2800,\n",
              " 2802,\n",
              " 2804,\n",
              " 2806,\n",
              " 2808,\n",
              " 2820,\n",
              " 2822,\n",
              " 2824,\n",
              " 2826,\n",
              " 2828,\n",
              " 2840,\n",
              " 2842,\n",
              " 2844,\n",
              " 2846,\n",
              " 2848,\n",
              " 2860,\n",
              " 2862,\n",
              " 2864,\n",
              " 2866,\n",
              " 2868,\n",
              " 2880,\n",
              " 2882,\n",
              " 2884,\n",
              " 2886,\n",
              " 2888]"
            ]
          },
          "execution_count": 4,
          "metadata": {},
          "output_type": "execute_result"
        }
      ],
      "source": [
        "\n",
        "\n",
        "def even_digit(n1,n2):\n",
        "  result=[]\n",
        "  for i in range(n1,n2+1):\n",
        "    s=str(i)\n",
        "    if int(s[0])%2==0 and int(s[1])%2==0 and int(s[2])%2==0 and int(s[3])%2==0:\n",
        "      result.append(int(s))\n",
        "\n",
        "  return result\n",
        "\n",
        "even_digit(1000,3000)\n"
      ]
    },
    {
      "cell_type": "markdown",
      "metadata": {
        "id": "MX4Rjep-Rry8"
      },
      "source": [
        "# Exercise 7 :\n",
        "Write a python function that accepts a sentence and calculate and return the number of letters and digits.\n",
        "Suppose the following input is supplied to the program:\n",
        "hello world! 123\n",
        "Then, the output should be:\n",
        "LETTERS 10\n",
        "DIGITS 3\n"
      ]
    },
    {
      "cell_type": "code",
      "execution_count": null,
      "metadata": {
        "colab": {
          "base_uri": "https://localhost:8080/"
        },
        "id": "iiqsYO8NR3bz",
        "outputId": "53333b81-7bd9-4317-854e-d176ca4eb334"
      },
      "outputs": [
        {
          "name": "stdout",
          "output_type": "stream",
          "text": [
            "Enter the sentence : hello 123 44\n",
            "LETTERS 5 and DIGITS 5\n"
          ]
        }
      ],
      "source": [
        "def count_fn(s):\n",
        "  letters=0\n",
        "  numeric=0\n",
        "  for i in s:\n",
        "    if i.isalpha():\n",
        "      letters+=1\n",
        "    elif i.isnumeric():\n",
        "      numeric+=1\n",
        "  print(f\"LETTERS {letters} and DIGITS {numeric}\")\n",
        "\n",
        "sentence=input('Enter the sentence : ')\n",
        "count_fn(sentence)"
      ]
    },
    {
      "cell_type": "markdown",
      "metadata": {
        "id": "SMn0p-CBR358"
      },
      "source": [
        "## Exercise 8  MAP:\n",
        "Write a Python program to convert all the characters into uppercase and lowercase and eliminate duplicate letters from a given sequence. Use the map() function\n"
      ]
    },
    {
      "cell_type": "code",
      "execution_count": null,
      "metadata": {
        "colab": {
          "base_uri": "https://localhost:8080/"
        },
        "id": "HwZRiC7KR9NC",
        "outputId": "2608aadf-e192-4cde-e0b3-1e9c0aa014ee"
      },
      "outputs": [
        {
          "name": "stdout",
          "output_type": "stream",
          "text": [
            "{('T', 't'), ('K', 'k'), ('J', 'j'), ('E', 'e'), ('F', 'f')}\n"
          ]
        }
      ],
      "source": [
        "def upper_lower(seq):\n",
        "  return seq.upper(),seq.lower()\n",
        "\n",
        "#sequence=input(\"Enter the sequence : \")\n",
        "sequence=['f','k','t','j','J','E','T']\n",
        "X=set(map(upper_lower,sequence))\n",
        "print(X)\n"
      ]
    },
    {
      "cell_type": "markdown",
      "metadata": {
        "id": "oTfVyTvLR-pe"
      },
      "source": [
        "## Exercise 9 MAP:\n",
        " Write a Python program to element wise add two given lists and find the difference between them. Use the map() function\n"
      ]
    },
    {
      "cell_type": "code",
      "execution_count": null,
      "metadata": {
        "colab": {
          "base_uri": "https://localhost:8080/"
        },
        "id": "YK96Z0RvSC0W",
        "outputId": "3541a600-92b5-49b7-d9d1-65c9ab4f22a9"
      },
      "outputs": [
        {
          "name": "stdout",
          "output_type": "stream",
          "text": [
            "Adding the elements:\n",
            " [7, 9, 7, 6, 8]\n",
            "Subtracting the elements:\n",
            " [1, 7, -1, 4, 4]\n"
          ]
        }
      ],
      "source": [
        "l1=[4,8,3,5,6]\n",
        "l2=[3,1,4,1,2]\n",
        "print('Adding the elements:\\n',list(map(lambda x,y:x+y,l1,l2)))\n",
        "print('Subtracting the elements:\\n',list(map(lambda x,y:x-y,l1,l2)))"
      ]
    },
    {
      "cell_type": "markdown",
      "metadata": {
        "id": "0Jyr3JklSD6O"
      },
      "source": [
        "## Exercise 10 Filter:\n",
        "Write a Python program to filter the height and weight of students, which are stored in a dictionary using lambda.\n",
        "\n",
        "Original Dictionary:\n",
        "\n",
        "{'Cierra Vega': (6.2, 71), 'Alden Cantrell': (5.9, 65), 'Kierra Gentry': (6.0, 68), 'Pierre Cox': (5.8, 66)}\n",
        "\n",
        "Height> 6ft and Weight> 70kg:\n",
        "\n",
        "{'Cierra Vega': (6.2, 71)}\n"
      ]
    },
    {
      "cell_type": "code",
      "execution_count": 6,
      "metadata": {
        "colab": {
          "base_uri": "https://localhost:8080/"
        },
        "id": "VVxtgj15E2TN",
        "outputId": "df0f0920-4834-458b-827f-d4fa7ed96da8"
      },
      "outputs": [
        {
          "data": {
            "text/plain": [
              "{'Cierra Vega': (6.2, 70)}"
            ]
          },
          "execution_count": 6,
          "metadata": {},
          "output_type": "execute_result"
        }
      ],
      "source": [
        "my_dic={'Cierra Vega': (6.2, 71), 'Alden Cantrell': (5.9, 65), 'Kierra Gentry': (6.0, 68), 'Pierre Cox': (5.8, 66)}\n",
        "\n",
        "f=dict(filter(lambda x:(x[1][0],x[1][1])>(6.0,70) ,my_dic.items()))\n",
        "f"
      ]
    },
    {
      "cell_type": "markdown",
      "metadata": {
        "id": "KYFl5UeOSTxi"
      },
      "source": [
        "# Exercise 11 Filter:\n",
        "\n",
        "Write a Python program to remove all elements from a given list present in another list using lambda.\n",
        "\n",
        "Original lists:\n",
        "\n",
        "list1: [1, 2, 3, 4, 5, 6, 7, 8, 9, 10]\n",
        "\n",
        "list2: [2, 4, 6, 8]\n",
        "\n",
        "Remove all elements from 'list1' present in 'list2:\n",
        "\n",
        "[1, 3, 5, 7, 9, 10]\n"
      ]
    },
    {
      "cell_type": "code",
      "execution_count": 6,
      "metadata": {
        "colab": {
          "base_uri": "https://localhost:8080/"
        },
        "id": "nIQxkDQCScIc",
        "outputId": "ffaab8d6-0cf5-47e3-83ca-9caeb9e76463"
      },
      "outputs": [
        {
          "name": "stdout",
          "output_type": "stream",
          "text": [
            "[1, 3, 5, 7, 9, 10]\n"
          ]
        }
      ],
      "source": [
        "list1=[1, 2, 3, 4, 5, 6, 7, 8, 9, 10]\n",
        "list2=[2, 4, 6, 8]\n",
        "fun=filter(lambda x:x not in list2,list1)\n",
        "print(list(fun))"
      ]
    },
    {
      "cell_type": "markdown",
      "metadata": {
        "id": "gxKmhddyShTu"
      },
      "source": [
        "## Exercise 12 Reduce:\n",
        "\n",
        "\n",
        "Write a Python program to calculate the product of a given list of numbers using lambda.\n",
        "\n",
        "list1: [1, 2, 3, 4, 5, 6, 7, 8, 9, 10]\n",
        "\n",
        "Product of the said list numbers:\n",
        "\n",
        "3628800\n",
        "\n"
      ]
    },
    {
      "cell_type": "code",
      "execution_count": 12,
      "metadata": {
        "colab": {
          "base_uri": "https://localhost:8080/"
        },
        "id": "deavr_MkSjWD",
        "outputId": "c6e5c535-8ff3-4968-d011-39368af6704b"
      },
      "outputs": [
        {
          "name": "stdout",
          "output_type": "stream",
          "text": [
            "3628800\n"
          ]
        }
      ],
      "source": [
        "import functools\n",
        "list1=[1,2,3,4,5,6,7,8,9,10]\n",
        "product_of_list=functools.reduce(lambda a,b:a*b,list1)\n",
        "print(product_of_list)"
      ]
    },
    {
      "cell_type": "markdown",
      "metadata": {
        "id": "f96f7iijSlra"
      },
      "source": [
        "# Exercise 13 Reduce:\n",
        "\n",
        "\n",
        " Write a Python program to multiply all the numbers in a given list using lambda.\n",
        "\n",
        "Original list:\n",
        "\n",
        "[4, 3, 2, 2, -1, 18]\n",
        "\n",
        "Multiply all the numbers of the said list: -864\n"
      ]
    },
    {
      "cell_type": "code",
      "execution_count": 14,
      "metadata": {
        "colab": {
          "base_uri": "https://localhost:8080/"
        },
        "id": "QP3FVDM1S358",
        "outputId": "13b2bd15-9727-4222-9f88-1e4354ec0b79"
      },
      "outputs": [
        {
          "name": "stdout",
          "output_type": "stream",
          "text": [
            "-864\n"
          ]
        }
      ],
      "source": [
        "from functools import reduce\n",
        "list1=[4, 3, 2, 2, -1, 18]\n",
        "product_of_list=reduce(lambda a,b:a*b,list1)\n",
        "print(product_of_list)\n"
      ]
    },
    {
      "cell_type": "markdown",
      "metadata": {
        "id": "NHo3dL1mS5Pw"
      },
      "source": [
        "#Exercise 14:\n",
        "\n",
        "\n",
        "Write a Python program to calculate the average value of the numbers in a given tuple of tuples using lambda.\n",
        "\n",
        "Original Tuple:\n",
        "\n",
        "((10, 10, 10), (30, 45, 56), (81, 80, 39), (1, 2, 3))\n",
        "\n",
        "Average value of the numbers of the said tuple of tuples:\n",
        "\n",
        "(30.5, 34.25, 27.0)\n"
      ]
    },
    {
      "cell_type": "code",
      "execution_count": 10,
      "metadata": {
        "colab": {
          "base_uri": "https://localhost:8080/"
        },
        "id": "kfmzDXyrTERK",
        "outputId": "82c58485-be25-452d-f9c9-3cc7fe4244c8"
      },
      "outputs": [
        {
          "name": "stdout",
          "output_type": "stream",
          "text": [
            "(30.5, 34.25, 27.0)\n"
          ]
        }
      ],
      "source": [
        "my_tup=((10, 10, 10), (30, 45, 56), (81, 80, 39), (1, 2, 3))\n",
        "average=tuple(map(lambda x :sum(x)/len(x), zip(*my_tup)))\n",
        "print(average)\n"
      ]
    },
    {
      "cell_type": "markdown",
      "metadata": {
        "id": "2wi0PejsTE51"
      },
      "source": [
        "# Exercise 15:\n",
        "\n",
        "\n",
        "Write a Python program to sort a given mixed list of integers and strings using lambda. Numbers must be sorted before strings.\n",
        "\n",
        "Original list:\n",
        "\n",
        "[19, 'red', 12, 'green', 'blue', 10, 'white', 'green', 1]\n",
        "\n",
        "Sort the said mixed list of integers and strings:\n",
        "\n",
        "[1, 10, 12, 19, 'blue', 'green', 'green', 'red', 'white']\n"
      ]
    },
    {
      "cell_type": "code",
      "execution_count": 28,
      "metadata": {
        "colab": {
          "base_uri": "https://localhost:8080/"
        },
        "id": "np3WxhPyTNJm",
        "outputId": "fe23a66d-6025-4348-f7d2-be63852f5ba2"
      },
      "outputs": [
        {
          "data": {
            "text/plain": [
              "[1, 10, 12, 19, 'blue', 'green', 'green', 'red', 'white']"
            ]
          },
          "execution_count": 28,
          "metadata": {},
          "output_type": "execute_result"
        }
      ],
      "source": [
        "my_list=[19, 'red', 12, 'green', 'blue', 10, 'white', 'green', 1]\n",
        "#my_list.sort(key=str)\n",
        "my_list.sort(key=lambda x: (isinstance(x, str), x))\n",
        "my_list"
      ]
    },
    {
      "cell_type": "markdown",
      "metadata": {
        "id": "929l4rwvTNsm"
      },
      "source": [
        "# Exercise 16:\n",
        "\n",
        "Write a Python program to count the occurrences of items in a given list using lambda.\n",
        "\n",
        "Original list:\n",
        "\n",
        "[3, 4, 5, 8, 0, 3, 8, 5, 0, 3, 1, 5, 2, 3, 4, 2]\n",
        "\n",
        "Count the occurrences of the items in the said list:\n",
        "\n",
        "{3: 4, 4: 2, 5: 3, 8: 2, 0: 2, 1: 1, 2: 2}\n"
      ]
    },
    {
      "cell_type": "code",
      "execution_count": 52,
      "metadata": {
        "colab": {
          "base_uri": "https://localhost:8080/"
        },
        "id": "hf7ve5IMTVB3",
        "outputId": "b9b937fb-d008-4296-9802-b31b6d0ffcfa"
      },
      "outputs": [
        {
          "data": {
            "text/plain": [
              "{3: 4, 4: 2, 5: 3, 8: 2, 0: 2, 1: 1, 2: 2}"
            ]
          },
          "execution_count": 52,
          "metadata": {},
          "output_type": "execute_result"
        }
      ],
      "source": [
        "my_list=[3, 4, 5, 8, 0, 3, 8, 5, 0, 3, 1, 5, 2, 3, 4, 2]\n",
        "my_dict = dict(map(lambda x: (x, my_list.count(x)), my_list))\n",
        "my_dict"
      ]
    },
    {
      "cell_type": "markdown",
      "metadata": {
        "id": "N0B8aaRDTWWg"
      },
      "source": [
        "#Exercise 17:\n",
        "\n",
        "\n",
        "Write a Python program to remove None values from a given list using the lambda function.\n",
        "\n",
        "Original list:\n",
        "\n",
        "[12, 0, None, 23, None, -55, 234, 89, None, 0, 6, -12]\n",
        "\n",
        "Remove None value from the said list:\n",
        "\n",
        "[12, 0, 23, -55, 234, 89, 0, 6, -12]\n"
      ]
    },
    {
      "cell_type": "code",
      "execution_count": 55,
      "metadata": {
        "colab": {
          "base_uri": "https://localhost:8080/"
        },
        "id": "9Cs80rIWTeIG",
        "outputId": "60911132-179c-48ad-a037-41029dc188d3"
      },
      "outputs": [
        {
          "name": "stdout",
          "output_type": "stream",
          "text": [
            "[12, 0, 23, -55, 234, 89, 0, 6, -12]\n"
          ]
        }
      ],
      "source": [
        "my_list=[12, 0, None, 23, None, -55, 234, 89, None, 0, 6, -12]\n",
        "fun=list(filter((lambda x:x is not None ),my_list))\n",
        "print(fun)"
      ]
    }
  ],
  "metadata": {
    "colab": {
      "provenance": []
    },
    "kernelspec": {
      "display_name": "Python 3",
      "name": "python3"
    },
    "language_info": {
      "name": "python"
    }
  },
  "nbformat": 4,
  "nbformat_minor": 0
}
